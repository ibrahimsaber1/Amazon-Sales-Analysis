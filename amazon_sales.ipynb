{
 "cells": [
  {
   "cell_type": "markdown",
   "metadata": {},
   "source": [
    "## the dataset i use is ==> https://www.kaggle.com/datasets/mdsazzatsardar/amazonsalesreport"
   ]
  },
  {
   "cell_type": "markdown",
   "metadata": {},
   "source": []
  },
  {
   "cell_type": "code",
<<<<<<< HEAD
   "execution_count": 248,
=======
   "execution_count": 2,
>>>>>>> dd0e3ff (add 2 questions)
   "metadata": {},
   "outputs": [],
   "source": [
    "import pandas as pd\n",
    "import numpy as np\n",
    "import matplotlib.pyplot as plt\n",
    "import plotly.express as px\n"
   ]
  },
  {
   "cell_type": "markdown",
   "metadata": {},
   "source": [
    "## loading the data :"
   ]
  },
  {
   "cell_type": "code",
<<<<<<< HEAD
   "execution_count": 249,
=======
   "execution_count": 3,
>>>>>>> dd0e3ff (add 2 questions)
   "metadata": {},
   "outputs": [
    {
     "name": "stderr",
     "output_type": "stream",
     "text": [
      "/tmp/ipykernel_6862/966938920.py:2: DtypeWarning: Columns (23) have mixed types. Specify dtype option on import or set low_memory=False.\n",
      "  df = pd.read_csv('./data/Amazon_Sale_Report.csv', index_col=0)\n"
     ]
    },
    {
     "data": {
      "text/html": [
       "<div>\n",
       "<style scoped>\n",
       "    .dataframe tbody tr th:only-of-type {\n",
       "        vertical-align: middle;\n",
       "    }\n",
       "\n",
       "    .dataframe tbody tr th {\n",
       "        vertical-align: top;\n",
       "    }\n",
       "\n",
       "    .dataframe thead th {\n",
       "        text-align: right;\n",
       "    }\n",
       "</style>\n",
       "<table border=\"1\" class=\"dataframe\">\n",
       "  <thead>\n",
       "    <tr style=\"text-align: right;\">\n",
       "      <th></th>\n",
       "      <th>Order ID</th>\n",
       "      <th>Date</th>\n",
       "      <th>Status</th>\n",
       "      <th>Fulfilment</th>\n",
       "      <th>Sales Channel</th>\n",
       "      <th>ship-service-level</th>\n",
       "      <th>Style</th>\n",
       "      <th>SKU</th>\n",
       "      <th>Category</th>\n",
       "      <th>Size</th>\n",
       "      <th>...</th>\n",
       "      <th>currency</th>\n",
       "      <th>Amount</th>\n",
       "      <th>ship-city</th>\n",
       "      <th>ship-state</th>\n",
       "      <th>ship-postal-code</th>\n",
       "      <th>ship-country</th>\n",
       "      <th>promotion-ids</th>\n",
       "      <th>B2B</th>\n",
       "      <th>fulfilled-by</th>\n",
       "      <th>Unnamed: 22</th>\n",
       "    </tr>\n",
       "    <tr>\n",
       "      <th>index</th>\n",
       "      <th></th>\n",
       "      <th></th>\n",
       "      <th></th>\n",
       "      <th></th>\n",
       "      <th></th>\n",
       "      <th></th>\n",
       "      <th></th>\n",
       "      <th></th>\n",
       "      <th></th>\n",
       "      <th></th>\n",
       "      <th></th>\n",
       "      <th></th>\n",
       "      <th></th>\n",
       "      <th></th>\n",
       "      <th></th>\n",
       "      <th></th>\n",
       "      <th></th>\n",
       "      <th></th>\n",
       "      <th></th>\n",
       "      <th></th>\n",
       "      <th></th>\n",
       "    </tr>\n",
       "  </thead>\n",
       "  <tbody>\n",
       "    <tr>\n",
       "      <th>0</th>\n",
       "      <td>405-8078784-5731545</td>\n",
       "      <td>04-30-22</td>\n",
       "      <td>Cancelled</td>\n",
       "      <td>Merchant</td>\n",
       "      <td>Amazon.in</td>\n",
       "      <td>Standard</td>\n",
       "      <td>SET389</td>\n",
       "      <td>SET389-KR-NP-S</td>\n",
       "      <td>Set</td>\n",
       "      <td>S</td>\n",
       "      <td>...</td>\n",
       "      <td>INR</td>\n",
       "      <td>647.62</td>\n",
       "      <td>MUMBAI</td>\n",
       "      <td>MAHARASHTRA</td>\n",
       "      <td>400081.0</td>\n",
       "      <td>IN</td>\n",
       "      <td>NaN</td>\n",
       "      <td>False</td>\n",
       "      <td>Easy Ship</td>\n",
       "      <td>NaN</td>\n",
       "    </tr>\n",
       "    <tr>\n",
       "      <th>1</th>\n",
       "      <td>171-9198151-1101146</td>\n",
       "      <td>04-30-22</td>\n",
       "      <td>Shipped - Delivered to Buyer</td>\n",
       "      <td>Merchant</td>\n",
       "      <td>Amazon.in</td>\n",
       "      <td>Standard</td>\n",
       "      <td>JNE3781</td>\n",
       "      <td>JNE3781-KR-XXXL</td>\n",
       "      <td>kurta</td>\n",
       "      <td>3XL</td>\n",
       "      <td>...</td>\n",
       "      <td>INR</td>\n",
       "      <td>406.00</td>\n",
       "      <td>BENGALURU</td>\n",
       "      <td>KARNATAKA</td>\n",
       "      <td>560085.0</td>\n",
       "      <td>IN</td>\n",
       "      <td>Amazon PLCC Free-Financing Universal Merchant ...</td>\n",
       "      <td>False</td>\n",
       "      <td>Easy Ship</td>\n",
       "      <td>NaN</td>\n",
       "    </tr>\n",
       "    <tr>\n",
       "      <th>2</th>\n",
       "      <td>404-0687676-7273146</td>\n",
       "      <td>04-30-22</td>\n",
       "      <td>Shipped</td>\n",
       "      <td>Amazon</td>\n",
       "      <td>Amazon.in</td>\n",
       "      <td>Expedited</td>\n",
       "      <td>JNE3371</td>\n",
       "      <td>JNE3371-KR-XL</td>\n",
       "      <td>kurta</td>\n",
       "      <td>XL</td>\n",
       "      <td>...</td>\n",
       "      <td>INR</td>\n",
       "      <td>329.00</td>\n",
       "      <td>NAVI MUMBAI</td>\n",
       "      <td>MAHARASHTRA</td>\n",
       "      <td>410210.0</td>\n",
       "      <td>IN</td>\n",
       "      <td>IN Core Free Shipping 2015/04/08 23-48-5-108</td>\n",
       "      <td>True</td>\n",
       "      <td>NaN</td>\n",
       "      <td>NaN</td>\n",
       "    </tr>\n",
       "    <tr>\n",
       "      <th>3</th>\n",
       "      <td>403-9615377-8133951</td>\n",
       "      <td>04-30-22</td>\n",
       "      <td>Cancelled</td>\n",
       "      <td>Merchant</td>\n",
       "      <td>Amazon.in</td>\n",
       "      <td>Standard</td>\n",
       "      <td>J0341</td>\n",
       "      <td>J0341-DR-L</td>\n",
       "      <td>Western Dress</td>\n",
       "      <td>L</td>\n",
       "      <td>...</td>\n",
       "      <td>INR</td>\n",
       "      <td>753.33</td>\n",
       "      <td>PUDUCHERRY</td>\n",
       "      <td>PUDUCHERRY</td>\n",
       "      <td>605008.0</td>\n",
       "      <td>IN</td>\n",
       "      <td>NaN</td>\n",
       "      <td>False</td>\n",
       "      <td>Easy Ship</td>\n",
       "      <td>NaN</td>\n",
       "    </tr>\n",
       "    <tr>\n",
       "      <th>4</th>\n",
       "      <td>407-1069790-7240320</td>\n",
       "      <td>04-30-22</td>\n",
       "      <td>Shipped</td>\n",
       "      <td>Amazon</td>\n",
       "      <td>Amazon.in</td>\n",
       "      <td>Expedited</td>\n",
       "      <td>JNE3671</td>\n",
       "      <td>JNE3671-TU-XXXL</td>\n",
       "      <td>Top</td>\n",
       "      <td>3XL</td>\n",
       "      <td>...</td>\n",
       "      <td>INR</td>\n",
       "      <td>574.00</td>\n",
       "      <td>CHENNAI</td>\n",
       "      <td>TAMIL NADU</td>\n",
       "      <td>600073.0</td>\n",
       "      <td>IN</td>\n",
       "      <td>NaN</td>\n",
       "      <td>False</td>\n",
       "      <td>NaN</td>\n",
       "      <td>NaN</td>\n",
       "    </tr>\n",
       "  </tbody>\n",
       "</table>\n",
       "<p>5 rows × 23 columns</p>\n",
       "</div>"
      ],
      "text/plain": [
       "                  Order ID      Date                        Status Fulfilment  \\\n",
       "index                                                                           \n",
       "0      405-8078784-5731545  04-30-22                     Cancelled   Merchant   \n",
       "1      171-9198151-1101146  04-30-22  Shipped - Delivered to Buyer   Merchant   \n",
       "2      404-0687676-7273146  04-30-22                       Shipped     Amazon   \n",
       "3      403-9615377-8133951  04-30-22                     Cancelled   Merchant   \n",
       "4      407-1069790-7240320  04-30-22                       Shipped     Amazon   \n",
       "\n",
       "      Sales Channel  ship-service-level    Style              SKU  \\\n",
       "index                                                               \n",
       "0          Amazon.in           Standard   SET389   SET389-KR-NP-S   \n",
       "1          Amazon.in           Standard  JNE3781  JNE3781-KR-XXXL   \n",
       "2          Amazon.in          Expedited  JNE3371    JNE3371-KR-XL   \n",
       "3          Amazon.in           Standard    J0341       J0341-DR-L   \n",
       "4          Amazon.in          Expedited  JNE3671  JNE3671-TU-XXXL   \n",
       "\n",
       "            Category Size  ... currency  Amount    ship-city   ship-state  \\\n",
       "index                      ...                                              \n",
       "0                Set    S  ...      INR  647.62       MUMBAI  MAHARASHTRA   \n",
       "1              kurta  3XL  ...      INR  406.00    BENGALURU    KARNATAKA   \n",
       "2              kurta   XL  ...      INR  329.00  NAVI MUMBAI  MAHARASHTRA   \n",
       "3      Western Dress    L  ...      INR  753.33   PUDUCHERRY   PUDUCHERRY   \n",
       "4                Top  3XL  ...      INR  574.00      CHENNAI   TAMIL NADU   \n",
       "\n",
       "       ship-postal-code ship-country  \\\n",
       "index                                  \n",
       "0              400081.0           IN   \n",
       "1              560085.0           IN   \n",
       "2              410210.0           IN   \n",
       "3              605008.0           IN   \n",
       "4              600073.0           IN   \n",
       "\n",
       "                                           promotion-ids    B2B fulfilled-by  \\\n",
       "index                                                                          \n",
       "0                                                    NaN  False    Easy Ship   \n",
       "1      Amazon PLCC Free-Financing Universal Merchant ...  False    Easy Ship   \n",
       "2           IN Core Free Shipping 2015/04/08 23-48-5-108   True          NaN   \n",
       "3                                                    NaN  False    Easy Ship   \n",
       "4                                                    NaN  False          NaN   \n",
       "\n",
       "      Unnamed: 22  \n",
       "index              \n",
       "0             NaN  \n",
       "1             NaN  \n",
       "2             NaN  \n",
       "3             NaN  \n",
       "4             NaN  \n",
       "\n",
       "[5 rows x 23 columns]"
      ]
     },
<<<<<<< HEAD
     "execution_count": 249,
=======
     "execution_count": 3,
>>>>>>> dd0e3ff (add 2 questions)
     "metadata": {},
     "output_type": "execute_result"
    }
   ],
   "source": [
    "# seeing the data \n",
    "df = pd.read_csv('./data/Amazon_Sale_Report.csv', index_col=0)\n",
    "df.head()\n"
   ]
  },
  {
   "cell_type": "markdown",
   "metadata": {},
   "source": [
    "## understand the data :"
   ]
  },
  {
   "cell_type": "code",
<<<<<<< HEAD
   "execution_count": 250,
=======
   "execution_count": 4,
>>>>>>> dd0e3ff (add 2 questions)
   "metadata": {},
   "outputs": [
    {
     "data": {
      "text/html": [
       "<div>\n",
       "<style scoped>\n",
       "    .dataframe tbody tr th:only-of-type {\n",
       "        vertical-align: middle;\n",
       "    }\n",
       "\n",
       "    .dataframe tbody tr th {\n",
       "        vertical-align: top;\n",
       "    }\n",
       "\n",
       "    .dataframe thead th {\n",
       "        text-align: right;\n",
       "    }\n",
       "</style>\n",
       "<table border=\"1\" class=\"dataframe\">\n",
       "  <thead>\n",
       "    <tr style=\"text-align: right;\">\n",
       "      <th></th>\n",
       "      <th>Order ID</th>\n",
       "      <th>Date</th>\n",
       "      <th>Status</th>\n",
       "      <th>Fulfilment</th>\n",
       "      <th>Sales Channel</th>\n",
       "      <th>ship-service-level</th>\n",
       "      <th>Style</th>\n",
       "      <th>SKU</th>\n",
       "      <th>Category</th>\n",
       "      <th>Size</th>\n",
       "      <th>...</th>\n",
       "      <th>currency</th>\n",
       "      <th>Amount</th>\n",
       "      <th>ship-city</th>\n",
       "      <th>ship-state</th>\n",
       "      <th>ship-postal-code</th>\n",
       "      <th>ship-country</th>\n",
       "      <th>promotion-ids</th>\n",
       "      <th>B2B</th>\n",
       "      <th>fulfilled-by</th>\n",
       "      <th>Unnamed: 22</th>\n",
       "    </tr>\n",
       "    <tr>\n",
       "      <th>index</th>\n",
       "      <th></th>\n",
       "      <th></th>\n",
       "      <th></th>\n",
       "      <th></th>\n",
       "      <th></th>\n",
       "      <th></th>\n",
       "      <th></th>\n",
       "      <th></th>\n",
       "      <th></th>\n",
       "      <th></th>\n",
       "      <th></th>\n",
       "      <th></th>\n",
       "      <th></th>\n",
       "      <th></th>\n",
       "      <th></th>\n",
       "      <th></th>\n",
       "      <th></th>\n",
       "      <th></th>\n",
       "      <th></th>\n",
       "      <th></th>\n",
       "      <th></th>\n",
       "    </tr>\n",
       "  </thead>\n",
       "  <tbody>\n",
       "    <tr>\n",
       "      <th>0</th>\n",
       "      <td>405-8078784-5731545</td>\n",
       "      <td>04-30-22</td>\n",
       "      <td>Cancelled</td>\n",
       "      <td>Merchant</td>\n",
       "      <td>Amazon.in</td>\n",
       "      <td>Standard</td>\n",
       "      <td>SET389</td>\n",
       "      <td>SET389-KR-NP-S</td>\n",
       "      <td>Set</td>\n",
       "      <td>S</td>\n",
       "      <td>...</td>\n",
       "      <td>INR</td>\n",
       "      <td>647.62</td>\n",
       "      <td>MUMBAI</td>\n",
       "      <td>MAHARASHTRA</td>\n",
       "      <td>400081.0</td>\n",
       "      <td>IN</td>\n",
       "      <td>NaN</td>\n",
       "      <td>False</td>\n",
       "      <td>Easy Ship</td>\n",
       "      <td>NaN</td>\n",
       "    </tr>\n",
       "    <tr>\n",
       "      <th>1</th>\n",
       "      <td>171-9198151-1101146</td>\n",
       "      <td>04-30-22</td>\n",
       "      <td>Shipped - Delivered to Buyer</td>\n",
       "      <td>Merchant</td>\n",
       "      <td>Amazon.in</td>\n",
       "      <td>Standard</td>\n",
       "      <td>JNE3781</td>\n",
       "      <td>JNE3781-KR-XXXL</td>\n",
       "      <td>kurta</td>\n",
       "      <td>3XL</td>\n",
       "      <td>...</td>\n",
       "      <td>INR</td>\n",
       "      <td>406.00</td>\n",
       "      <td>BENGALURU</td>\n",
       "      <td>KARNATAKA</td>\n",
       "      <td>560085.0</td>\n",
       "      <td>IN</td>\n",
       "      <td>Amazon PLCC Free-Financing Universal Merchant ...</td>\n",
       "      <td>False</td>\n",
       "      <td>Easy Ship</td>\n",
       "      <td>NaN</td>\n",
       "    </tr>\n",
       "    <tr>\n",
       "      <th>2</th>\n",
       "      <td>404-0687676-7273146</td>\n",
       "      <td>04-30-22</td>\n",
       "      <td>Shipped</td>\n",
       "      <td>Amazon</td>\n",
       "      <td>Amazon.in</td>\n",
       "      <td>Expedited</td>\n",
       "      <td>JNE3371</td>\n",
       "      <td>JNE3371-KR-XL</td>\n",
       "      <td>kurta</td>\n",
       "      <td>XL</td>\n",
       "      <td>...</td>\n",
       "      <td>INR</td>\n",
       "      <td>329.00</td>\n",
       "      <td>NAVI MUMBAI</td>\n",
       "      <td>MAHARASHTRA</td>\n",
       "      <td>410210.0</td>\n",
       "      <td>IN</td>\n",
       "      <td>IN Core Free Shipping 2015/04/08 23-48-5-108</td>\n",
       "      <td>True</td>\n",
       "      <td>NaN</td>\n",
       "      <td>NaN</td>\n",
       "    </tr>\n",
       "    <tr>\n",
       "      <th>3</th>\n",
       "      <td>403-9615377-8133951</td>\n",
       "      <td>04-30-22</td>\n",
       "      <td>Cancelled</td>\n",
       "      <td>Merchant</td>\n",
       "      <td>Amazon.in</td>\n",
       "      <td>Standard</td>\n",
       "      <td>J0341</td>\n",
       "      <td>J0341-DR-L</td>\n",
       "      <td>Western Dress</td>\n",
       "      <td>L</td>\n",
       "      <td>...</td>\n",
       "      <td>INR</td>\n",
       "      <td>753.33</td>\n",
       "      <td>PUDUCHERRY</td>\n",
       "      <td>PUDUCHERRY</td>\n",
       "      <td>605008.0</td>\n",
       "      <td>IN</td>\n",
       "      <td>NaN</td>\n",
       "      <td>False</td>\n",
       "      <td>Easy Ship</td>\n",
       "      <td>NaN</td>\n",
       "    </tr>\n",
       "    <tr>\n",
       "      <th>4</th>\n",
       "      <td>407-1069790-7240320</td>\n",
       "      <td>04-30-22</td>\n",
       "      <td>Shipped</td>\n",
       "      <td>Amazon</td>\n",
       "      <td>Amazon.in</td>\n",
       "      <td>Expedited</td>\n",
       "      <td>JNE3671</td>\n",
       "      <td>JNE3671-TU-XXXL</td>\n",
       "      <td>Top</td>\n",
       "      <td>3XL</td>\n",
       "      <td>...</td>\n",
       "      <td>INR</td>\n",
       "      <td>574.00</td>\n",
       "      <td>CHENNAI</td>\n",
       "      <td>TAMIL NADU</td>\n",
       "      <td>600073.0</td>\n",
       "      <td>IN</td>\n",
       "      <td>NaN</td>\n",
       "      <td>False</td>\n",
       "      <td>NaN</td>\n",
       "      <td>NaN</td>\n",
       "    </tr>\n",
       "  </tbody>\n",
       "</table>\n",
       "<p>5 rows × 23 columns</p>\n",
       "</div>"
      ],
      "text/plain": [
       "                  Order ID      Date                        Status Fulfilment  \\\n",
       "index                                                                           \n",
       "0      405-8078784-5731545  04-30-22                     Cancelled   Merchant   \n",
       "1      171-9198151-1101146  04-30-22  Shipped - Delivered to Buyer   Merchant   \n",
       "2      404-0687676-7273146  04-30-22                       Shipped     Amazon   \n",
       "3      403-9615377-8133951  04-30-22                     Cancelled   Merchant   \n",
       "4      407-1069790-7240320  04-30-22                       Shipped     Amazon   \n",
       "\n",
       "      Sales Channel  ship-service-level    Style              SKU  \\\n",
       "index                                                               \n",
       "0          Amazon.in           Standard   SET389   SET389-KR-NP-S   \n",
       "1          Amazon.in           Standard  JNE3781  JNE3781-KR-XXXL   \n",
       "2          Amazon.in          Expedited  JNE3371    JNE3371-KR-XL   \n",
       "3          Amazon.in           Standard    J0341       J0341-DR-L   \n",
       "4          Amazon.in          Expedited  JNE3671  JNE3671-TU-XXXL   \n",
       "\n",
       "            Category Size  ... currency  Amount    ship-city   ship-state  \\\n",
       "index                      ...                                              \n",
       "0                Set    S  ...      INR  647.62       MUMBAI  MAHARASHTRA   \n",
       "1              kurta  3XL  ...      INR  406.00    BENGALURU    KARNATAKA   \n",
       "2              kurta   XL  ...      INR  329.00  NAVI MUMBAI  MAHARASHTRA   \n",
       "3      Western Dress    L  ...      INR  753.33   PUDUCHERRY   PUDUCHERRY   \n",
       "4                Top  3XL  ...      INR  574.00      CHENNAI   TAMIL NADU   \n",
       "\n",
       "       ship-postal-code ship-country  \\\n",
       "index                                  \n",
       "0              400081.0           IN   \n",
       "1              560085.0           IN   \n",
       "2              410210.0           IN   \n",
       "3              605008.0           IN   \n",
       "4              600073.0           IN   \n",
       "\n",
       "                                           promotion-ids    B2B fulfilled-by  \\\n",
       "index                                                                          \n",
       "0                                                    NaN  False    Easy Ship   \n",
       "1      Amazon PLCC Free-Financing Universal Merchant ...  False    Easy Ship   \n",
       "2           IN Core Free Shipping 2015/04/08 23-48-5-108   True          NaN   \n",
       "3                                                    NaN  False    Easy Ship   \n",
       "4                                                    NaN  False          NaN   \n",
       "\n",
       "      Unnamed: 22  \n",
       "index              \n",
       "0             NaN  \n",
       "1             NaN  \n",
       "2             NaN  \n",
       "3             NaN  \n",
       "4             NaN  \n",
       "\n",
       "[5 rows x 23 columns]"
      ]
     },
<<<<<<< HEAD
     "execution_count": 250,
=======
     "execution_count": 4,
>>>>>>> dd0e3ff (add 2 questions)
     "metadata": {},
     "output_type": "execute_result"
    }
   ],
   "source": [
    "df.head()"
   ]
  },
  {
   "cell_type": "code",
<<<<<<< HEAD
   "execution_count": 251,
=======
   "execution_count": 5,
>>>>>>> dd0e3ff (add 2 questions)
   "metadata": {},
   "outputs": [
    {
     "name": "stdout",
     "output_type": "stream",
     "text": [
      "<class 'pandas.core.frame.DataFrame'>\n",
      "Index: 128975 entries, 0 to 128974\n",
      "Data columns (total 23 columns):\n",
      " #   Column              Non-Null Count   Dtype  \n",
      "---  ------              --------------   -----  \n",
      " 0   Order ID            128975 non-null  object \n",
      " 1   Date                128975 non-null  object \n",
      " 2   Status              128975 non-null  object \n",
      " 3   Fulfilment          128975 non-null  object \n",
      " 4   Sales Channel       128975 non-null  object \n",
      " 5   ship-service-level  128975 non-null  object \n",
      " 6   Style               128975 non-null  object \n",
      " 7   SKU                 128975 non-null  object \n",
      " 8   Category            128975 non-null  object \n",
      " 9   Size                128975 non-null  object \n",
      " 10  ASIN                128975 non-null  object \n",
      " 11  Courier Status      122103 non-null  object \n",
      " 12  Qty                 128975 non-null  int64  \n",
      " 13  currency            121180 non-null  object \n",
      " 14  Amount              121180 non-null  float64\n",
      " 15  ship-city           128942 non-null  object \n",
      " 16  ship-state          128942 non-null  object \n",
      " 17  ship-postal-code    128942 non-null  float64\n",
      " 18  ship-country        128942 non-null  object \n",
      " 19  promotion-ids       79822 non-null   object \n",
      " 20  B2B                 128975 non-null  bool   \n",
      " 21  fulfilled-by        39277 non-null   object \n",
      " 22  Unnamed: 22         79925 non-null   object \n",
      "dtypes: bool(1), float64(2), int64(1), object(19)\n",
      "memory usage: 22.8+ MB\n"
     ]
    }
   ],
   "source": [
    "df.info()"
   ]
  },
  {
   "cell_type": "code",
<<<<<<< HEAD
   "execution_count": 252,
=======
   "execution_count": 6,
>>>>>>> dd0e3ff (add 2 questions)
   "metadata": {},
   "outputs": [
    {
     "data": {
      "text/html": [
       "<div>\n",
       "<style scoped>\n",
       "    .dataframe tbody tr th:only-of-type {\n",
       "        vertical-align: middle;\n",
       "    }\n",
       "\n",
       "    .dataframe tbody tr th {\n",
       "        vertical-align: top;\n",
       "    }\n",
       "\n",
       "    .dataframe thead th {\n",
       "        text-align: right;\n",
       "    }\n",
       "</style>\n",
       "<table border=\"1\" class=\"dataframe\">\n",
       "  <thead>\n",
       "    <tr style=\"text-align: right;\">\n",
       "      <th></th>\n",
       "      <th>Qty</th>\n",
       "      <th>Amount</th>\n",
       "      <th>ship-postal-code</th>\n",
       "    </tr>\n",
       "  </thead>\n",
       "  <tbody>\n",
       "    <tr>\n",
       "      <th>count</th>\n",
       "      <td>128975.00</td>\n",
       "      <td>121180.00</td>\n",
       "      <td>128942.00</td>\n",
       "    </tr>\n",
       "    <tr>\n",
       "      <th>mean</th>\n",
       "      <td>0.90</td>\n",
       "      <td>648.56</td>\n",
       "      <td>463966.24</td>\n",
       "    </tr>\n",
       "    <tr>\n",
       "      <th>std</th>\n",
       "      <td>0.31</td>\n",
       "      <td>281.21</td>\n",
       "      <td>191476.76</td>\n",
       "    </tr>\n",
       "    <tr>\n",
       "      <th>min</th>\n",
       "      <td>0.00</td>\n",
       "      <td>0.00</td>\n",
       "      <td>110001.00</td>\n",
       "    </tr>\n",
       "    <tr>\n",
       "      <th>25%</th>\n",
       "      <td>1.00</td>\n",
       "      <td>449.00</td>\n",
       "      <td>382421.00</td>\n",
       "    </tr>\n",
       "    <tr>\n",
       "      <th>50%</th>\n",
       "      <td>1.00</td>\n",
       "      <td>605.00</td>\n",
       "      <td>500033.00</td>\n",
       "    </tr>\n",
       "    <tr>\n",
       "      <th>75%</th>\n",
       "      <td>1.00</td>\n",
       "      <td>788.00</td>\n",
       "      <td>600024.00</td>\n",
       "    </tr>\n",
       "    <tr>\n",
       "      <th>max</th>\n",
       "      <td>15.00</td>\n",
       "      <td>5584.00</td>\n",
       "      <td>989898.00</td>\n",
       "    </tr>\n",
       "  </tbody>\n",
       "</table>\n",
       "</div>"
      ],
      "text/plain": [
       "             Qty     Amount  ship-postal-code\n",
       "count  128975.00  121180.00         128942.00\n",
       "mean        0.90     648.56         463966.24\n",
       "std         0.31     281.21         191476.76\n",
       "min         0.00       0.00         110001.00\n",
       "25%         1.00     449.00         382421.00\n",
       "50%         1.00     605.00         500033.00\n",
       "75%         1.00     788.00         600024.00\n",
       "max        15.00    5584.00         989898.00"
      ]
     },
<<<<<<< HEAD
     "execution_count": 252,
=======
     "execution_count": 6,
>>>>>>> dd0e3ff (add 2 questions)
     "metadata": {},
     "output_type": "execute_result"
    }
   ],
   "source": [
    "df.describe().round(2)"
   ]
  },
  {
   "cell_type": "code",
<<<<<<< HEAD
   "execution_count": 253,
=======
   "execution_count": 7,
>>>>>>> dd0e3ff (add 2 questions)
   "metadata": {},
   "outputs": [
    {
     "data": {
      "text/html": [
       "<div>\n",
       "<style scoped>\n",
       "    .dataframe tbody tr th:only-of-type {\n",
       "        vertical-align: middle;\n",
       "    }\n",
       "\n",
       "    .dataframe tbody tr th {\n",
       "        vertical-align: top;\n",
       "    }\n",
       "\n",
       "    .dataframe thead th {\n",
       "        text-align: right;\n",
       "    }\n",
       "</style>\n",
       "<table border=\"1\" class=\"dataframe\">\n",
       "  <thead>\n",
       "    <tr style=\"text-align: right;\">\n",
       "      <th></th>\n",
       "      <th>Order ID</th>\n",
       "      <th>Date</th>\n",
       "      <th>Status</th>\n",
       "      <th>Fulfilment</th>\n",
       "      <th>Sales Channel</th>\n",
       "      <th>ship-service-level</th>\n",
       "      <th>Style</th>\n",
       "      <th>SKU</th>\n",
       "      <th>Category</th>\n",
       "      <th>Size</th>\n",
       "      <th>ASIN</th>\n",
       "      <th>Courier Status</th>\n",
       "      <th>currency</th>\n",
       "      <th>ship-city</th>\n",
       "      <th>ship-state</th>\n",
       "      <th>ship-country</th>\n",
       "      <th>promotion-ids</th>\n",
       "      <th>fulfilled-by</th>\n",
       "      <th>Unnamed: 22</th>\n",
       "    </tr>\n",
       "  </thead>\n",
       "  <tbody>\n",
       "    <tr>\n",
       "      <th>count</th>\n",
       "      <td>128975</td>\n",
       "      <td>128975</td>\n",
       "      <td>128975</td>\n",
       "      <td>128975</td>\n",
       "      <td>128975</td>\n",
       "      <td>128975</td>\n",
       "      <td>128975</td>\n",
       "      <td>128975</td>\n",
       "      <td>128975</td>\n",
       "      <td>128975</td>\n",
       "      <td>128975</td>\n",
       "      <td>122103</td>\n",
       "      <td>121180</td>\n",
       "      <td>128942</td>\n",
       "      <td>128942</td>\n",
       "      <td>128942</td>\n",
       "      <td>79822</td>\n",
       "      <td>39277</td>\n",
       "      <td>79925</td>\n",
       "    </tr>\n",
       "    <tr>\n",
       "      <th>unique</th>\n",
       "      <td>120378</td>\n",
       "      <td>91</td>\n",
       "      <td>13</td>\n",
       "      <td>2</td>\n",
       "      <td>2</td>\n",
       "      <td>2</td>\n",
       "      <td>1377</td>\n",
       "      <td>7195</td>\n",
       "      <td>9</td>\n",
       "      <td>11</td>\n",
       "      <td>7190</td>\n",
       "      <td>3</td>\n",
       "      <td>1</td>\n",
       "      <td>8955</td>\n",
       "      <td>69</td>\n",
       "      <td>1</td>\n",
       "      <td>5787</td>\n",
       "      <td>1</td>\n",
       "      <td>1</td>\n",
       "    </tr>\n",
       "    <tr>\n",
       "      <th>top</th>\n",
       "      <td>403-4984515-8861958</td>\n",
       "      <td>05-03-22</td>\n",
       "      <td>Shipped</td>\n",
       "      <td>Amazon</td>\n",
       "      <td>Amazon.in</td>\n",
       "      <td>Expedited</td>\n",
       "      <td>JNE3797</td>\n",
       "      <td>JNE3797-KR-L</td>\n",
       "      <td>Set</td>\n",
       "      <td>M</td>\n",
       "      <td>B09SDXFFQ1</td>\n",
       "      <td>Shipped</td>\n",
       "      <td>INR</td>\n",
       "      <td>BENGALURU</td>\n",
       "      <td>MAHARASHTRA</td>\n",
       "      <td>IN</td>\n",
       "      <td>IN Core Free Shipping 2015/04/08 23-48-5-108</td>\n",
       "      <td>Easy Ship</td>\n",
       "      <td>False</td>\n",
       "    </tr>\n",
       "    <tr>\n",
       "      <th>freq</th>\n",
       "      <td>12</td>\n",
       "      <td>2085</td>\n",
       "      <td>77804</td>\n",
       "      <td>89698</td>\n",
       "      <td>128851</td>\n",
       "      <td>88615</td>\n",
       "      <td>4224</td>\n",
       "      <td>773</td>\n",
       "      <td>50284</td>\n",
       "      <td>22711</td>\n",
       "      <td>773</td>\n",
       "      <td>109487</td>\n",
       "      <td>121180</td>\n",
       "      <td>11217</td>\n",
       "      <td>22260</td>\n",
       "      <td>128942</td>\n",
       "      <td>46100</td>\n",
       "      <td>39277</td>\n",
       "      <td>79925</td>\n",
       "    </tr>\n",
       "  </tbody>\n",
       "</table>\n",
       "</div>"
      ],
      "text/plain": [
       "                   Order ID      Date   Status Fulfilment Sales Channel   \\\n",
       "count                128975    128975   128975     128975         128975   \n",
       "unique               120378        91       13          2              2   \n",
       "top     403-4984515-8861958  05-03-22  Shipped     Amazon      Amazon.in   \n",
       "freq                     12      2085    77804      89698         128851   \n",
       "\n",
       "       ship-service-level    Style           SKU Category    Size        ASIN  \\\n",
       "count              128975   128975        128975   128975  128975      128975   \n",
       "unique                  2     1377          7195        9      11        7190   \n",
       "top             Expedited  JNE3797  JNE3797-KR-L      Set       M  B09SDXFFQ1   \n",
       "freq                88615     4224           773    50284   22711         773   \n",
       "\n",
       "       Courier Status currency  ship-city   ship-state ship-country  \\\n",
       "count          122103   121180     128942       128942       128942   \n",
       "unique              3        1       8955           69            1   \n",
       "top           Shipped      INR  BENGALURU  MAHARASHTRA           IN   \n",
       "freq           109487   121180      11217        22260       128942   \n",
       "\n",
       "                                       promotion-ids fulfilled-by Unnamed: 22  \n",
       "count                                          79822        39277       79925  \n",
       "unique                                          5787            1           1  \n",
       "top     IN Core Free Shipping 2015/04/08 23-48-5-108    Easy Ship       False  \n",
       "freq                                           46100        39277       79925  "
      ]
     },
<<<<<<< HEAD
     "execution_count": 253,
=======
     "execution_count": 7,
>>>>>>> dd0e3ff (add 2 questions)
     "metadata": {},
     "output_type": "execute_result"
    }
   ],
   "source": [
    "df.describe(include='O')"
   ]
  },
  {
   "cell_type": "code",
<<<<<<< HEAD
   "execution_count": 254,
=======
   "execution_count": 8,
>>>>>>> dd0e3ff (add 2 questions)
   "metadata": {},
   "outputs": [
    {
     "data": {
      "text/plain": [
       "Order ID               0.000\n",
       "Date                   0.000\n",
       "Status                 0.000\n",
       "Fulfilment             0.000\n",
       "Sales Channel          0.000\n",
       "ship-service-level     0.000\n",
       "Style                  0.000\n",
       "SKU                    0.000\n",
       "Category               0.000\n",
       "Size                   0.000\n",
       "ASIN                   0.000\n",
       "Courier Status         5.328\n",
       "Qty                    0.000\n",
       "currency               6.044\n",
       "Amount                 6.044\n",
       "ship-city              0.026\n",
       "ship-state             0.026\n",
       "ship-postal-code       0.026\n",
       "ship-country           0.026\n",
       "promotion-ids         38.110\n",
       "B2B                    0.000\n",
       "fulfilled-by          69.547\n",
       "Unnamed: 22           38.031\n",
       "dtype: float64"
      ]
     },
<<<<<<< HEAD
     "execution_count": 254,
=======
     "execution_count": 8,
>>>>>>> dd0e3ff (add 2 questions)
     "metadata": {},
     "output_type": "execute_result"
    }
   ],
   "source": [
    "round(df.isnull().mean()*100,3)"
   ]
  },
  {
   "cell_type": "markdown",
   "metadata": {},
   "source": [
    "# DATA CLEANING :-"
   ]
  },
  {
   "cell_type": "markdown",
   "metadata": {},
   "source": [
    "## AFTER REVEWING DB COLUMNS I FOUND THAT :-\n",
    "\n",
    "\n",
    "#### 01 - the columns names needs to cleand to be lower case and to remove unwanted spaces. \n",
    "#### 02 - there is 33 out of 128975 rows where the address is null so i will drop it \n",
    "#### 03 - the unnamed:_22 and fulfilled_by did not give any usefull info so i will drop them.\n",
    "#### 04 - the date column type needs to change into ===> datetime64\n",
    "#### 05 - the ship-postal-code type needs to change into ===> int\n",
    "#### 06 - the 'qty' column need to be rename into ==> 'Quantity'\n",
    "#### 07 - Some states and cities have the same meaning but are written in different styles\n",
    "#### 08 - the currency should be INR since this data from india and also i did not found any other currency\n",
    "#### 09 - Missing values in the promotion-ids column will be replaced with \"No Promotion\"\n",
    "#### 10 - Fill \"Courier Status\" with \"Cancelled\" when Status is \"Cancelled\"\n",
    "#### 11 - handel the Null Amount Values based on style's median unit price and quantity"
   ]
  },
  {
   "cell_type": "code",
<<<<<<< HEAD
   "execution_count": 255,
=======
   "execution_count": 9,
>>>>>>> dd0e3ff (add 2 questions)
   "metadata": {},
   "outputs": [
    {
     "data": {
      "text/plain": [
       "Index(['Order ID', 'Date', 'Status', 'Fulfilment', 'Sales Channel ',\n",
       "       'ship-service-level', 'Style', 'SKU', 'Category', 'Size', 'ASIN',\n",
       "       'Courier Status', 'Qty', 'currency', 'Amount', 'ship-city',\n",
       "       'ship-state', 'ship-postal-code', 'ship-country', 'promotion-ids',\n",
       "       'B2B', 'fulfilled-by', 'Unnamed: 22'],\n",
       "      dtype='object')"
      ]
     },
<<<<<<< HEAD
     "execution_count": 255,
=======
     "execution_count": 9,
>>>>>>> dd0e3ff (add 2 questions)
     "metadata": {},
     "output_type": "execute_result"
    }
   ],
   "source": [
    "df.columns"
   ]
  },
  {
   "cell_type": "code",
<<<<<<< HEAD
   "execution_count": 256,
=======
   "execution_count": 10,
>>>>>>> dd0e3ff (add 2 questions)
   "metadata": {},
   "outputs": [
    {
     "data": {
      "text/plain": [
       "Index(['order_id', 'date', 'status', 'fulfilment', 'sales_channel',\n",
       "       'ship_service_level', 'style', 'sku', 'category', 'size', 'asin',\n",
       "       'courier_status', 'qty', 'currency', 'amount', 'ship_city',\n",
       "       'ship_state', 'ship_postal_code', 'ship_country', 'promotion_ids',\n",
       "       'b2b', 'fulfilled_by', 'unnamed:_22'],\n",
       "      dtype='object')"
      ]
     },
<<<<<<< HEAD
     "execution_count": 256,
=======
     "execution_count": 10,
>>>>>>> dd0e3ff (add 2 questions)
     "metadata": {},
     "output_type": "execute_result"
    }
   ],
   "source": [
    "# 01 - the columns names needs to cleand to be lower case and to remove unwanted spaces. \n",
    "df.columns = df.columns.str.strip()\n",
    "df.columns = df.columns.str.lower().str.replace(' ', '_')\n",
    "df.columns = df.columns.str.lower().str.replace('-', '_')\n",
    "\n",
    "df.columns"
   ]
  },
  {
   "cell_type": "code",
<<<<<<< HEAD
   "execution_count": 257,
=======
   "execution_count": 11,
>>>>>>> dd0e3ff (add 2 questions)
   "metadata": {},
   "outputs": [
    {
     "data": {
      "text/plain": [
       "Index(['order_id', 'date', 'status', 'fulfilment', 'sales_channel',\n",
       "       'ship_service_level', 'style', 'sku', 'category', 'size', 'asin',\n",
       "       'courier_status', 'currency', 'ship_city', 'ship_state', 'ship_country',\n",
       "       'promotion_ids', 'fulfilled_by', 'unnamed:_22'],\n",
       "      dtype='object')"
      ]
     },
<<<<<<< HEAD
     "execution_count": 257,
=======
     "execution_count": 11,
>>>>>>> dd0e3ff (add 2 questions)
     "metadata": {},
     "output_type": "execute_result"
    }
   ],
   "source": [
    "# THIS IS THE DATE CATEGORICAL COLUMN\n",
    "cat_cols = df.select_dtypes(include= 'object').columns\n",
    "cat_cols"
   ]
  },
  {
   "cell_type": "code",
<<<<<<< HEAD
   "execution_count": 258,
=======
   "execution_count": 12,
>>>>>>> dd0e3ff (add 2 questions)
   "metadata": {},
   "outputs": [
    {
     "name": "stdout",
     "output_type": "stream",
     "text": [
      "order_id\n",
      "120378\n",
      "['405-8078784-5731545' '171-9198151-1101146' '404-0687676-7273146' ...\n",
      " '407-9547469-3152358' '402-6184140-0545956' '408-7436540-8728312']\n",
      "\n",
      " **************************************************************************************************** \n",
      "\n",
      "date\n",
      "91\n",
      "['04-30-22' '04-29-22' '04-28-22' '04-27-22' '04-26-22' '04-25-22'\n",
      " '04-24-22' '04-23-22' '04-22-22' '04-21-22' '04-20-22' '04-19-22'\n",
      " '04-18-22' '04-17-22' '04-16-22' '04-15-22' '04-14-22' '04-13-22'\n",
      " '04-12-22' '04-11-22' '04-10-22' '04-09-22' '04-08-22' '04-07-22'\n",
      " '04-06-22' '04-05-22' '04-04-22' '04-03-22' '04-02-22' '04-01-22'\n",
      " '03-31-22' '05-31-22' '05-30-22' '05-29-22' '05-28-22' '05-27-22'\n",
      " '05-26-22' '05-25-22' '05-24-22' '05-23-22' '05-22-22' '05-21-22'\n",
      " '05-20-22' '05-19-22' '05-18-22' '05-17-22' '05-16-22' '05-15-22'\n",
      " '05-14-22' '05-13-22' '05-12-22' '05-11-22' '05-10-22' '05-09-22'\n",
      " '05-08-22' '05-07-22' '05-06-22' '05-05-22' '05-04-22' '05-03-22'\n",
      " '05-02-22' '05-01-22' '06-29-22' '06-28-22' '06-27-22' '06-26-22'\n",
      " '06-25-22' '06-24-22' '06-23-22' '06-22-22' '06-21-22' '06-20-22'\n",
      " '06-19-22' '06-18-22' '06-17-22' '06-16-22' '06-15-22' '06-14-22'\n",
      " '06-13-22' '06-12-22' '06-11-22' '06-10-22' '06-09-22' '06-08-22'\n",
      " '06-07-22' '06-06-22' '06-05-22' '06-04-22' '06-03-22' '06-02-22'\n",
      " '06-01-22']\n",
      "\n",
      " **************************************************************************************************** \n",
      "\n",
      "status\n",
      "13\n",
      "['Cancelled' 'Shipped - Delivered to Buyer' 'Shipped'\n",
      " 'Shipped - Returned to Seller' 'Shipped - Rejected by Buyer'\n",
      " 'Shipped - Lost in Transit' 'Shipped - Out for Delivery'\n",
      " 'Shipped - Returning to Seller' 'Shipped - Picked Up' 'Pending'\n",
      " 'Pending - Waiting for Pick Up' 'Shipped - Damaged' 'Shipping']\n",
      "\n",
      " **************************************************************************************************** \n",
      "\n",
      "fulfilment\n",
      "2\n",
      "['Merchant' 'Amazon']\n",
      "\n",
      " **************************************************************************************************** \n",
      "\n",
      "sales_channel\n",
      "2\n",
      "['Amazon.in' 'Non-Amazon']\n",
      "\n",
      " **************************************************************************************************** \n",
      "\n",
      "ship_service_level\n",
      "2\n",
      "['Standard' 'Expedited']\n",
      "\n",
      " **************************************************************************************************** \n",
      "\n",
      "style\n",
      "1377\n",
      "['SET389' 'JNE3781' 'JNE3371' ... 'SET066' 'J0286' 'SET045']\n",
      "\n",
      " **************************************************************************************************** \n",
      "\n",
      "sku\n",
      "7195\n",
      "['SET389-KR-NP-S' 'JNE3781-KR-XXXL' 'JNE3371-KR-XL' ... 'JNE3370-KR-S'\n",
      " 'JNE3678-TU-XXL' 'SET045-KR-NP-M']\n",
      "\n",
      " **************************************************************************************************** \n",
      "\n",
      "category\n",
      "9\n",
      "['Set' 'kurta' 'Western Dress' 'Top' 'Ethnic Dress' 'Bottom' 'Saree'\n",
      " 'Blouse' 'Dupatta']\n",
      "\n",
      " **************************************************************************************************** \n",
      "\n",
      "size\n",
      "11\n",
      "['S' '3XL' 'XL' 'L' 'XXL' 'XS' '6XL' 'M' '4XL' '5XL' 'Free']\n",
      "\n",
      " **************************************************************************************************** \n",
      "\n",
      "asin\n",
      "7190\n",
      "['B09KXVBD7Z' 'B09K3WFS32' 'B07WV4JV4D' ... 'B081X6MVKK' 'B0943HSR64'\n",
      " 'B07N81TFNY']\n",
      "\n",
      " **************************************************************************************************** \n",
      "\n",
      "courier_status\n",
      "3\n",
      "[nan 'Shipped' 'Cancelled' 'Unshipped']\n",
      "\n",
      " **************************************************************************************************** \n",
      "\n",
      "currency\n",
      "1\n",
      "['INR' nan]\n",
      "\n",
      " **************************************************************************************************** \n",
      "\n",
      "ship_city\n",
      "8955\n",
      "['MUMBAI' 'BENGALURU' 'NAVI MUMBAI' ... 'GULABPURA, Distt BHILWARA'\n",
      " 'Prayagraj (ALLAHABAD)' 'Halol']\n",
      "\n",
      " **************************************************************************************************** \n",
      "\n",
      "ship_state\n",
      "69\n",
      "['MAHARASHTRA' 'KARNATAKA' 'PUDUCHERRY' 'TAMIL NADU' 'UTTAR PRADESH'\n",
      " 'CHANDIGARH' 'TELANGANA' 'ANDHRA PRADESH' 'RAJASTHAN' 'DELHI' 'HARYANA'\n",
      " 'ASSAM' 'JHARKHAND' 'CHHATTISGARH' 'ODISHA' 'KERALA' 'MADHYA PRADESH'\n",
      " 'WEST BENGAL' 'NAGALAND' 'Gujarat' 'UTTARAKHAND' 'BIHAR'\n",
      " 'JAMMU & KASHMIR' 'PUNJAB' 'HIMACHAL PRADESH' 'ARUNACHAL PRADESH'\n",
      " 'MANIPUR' 'Goa' 'MEGHALAYA' 'GOA' 'TRIPURA' 'LADAKH' 'DADRA AND NAGAR'\n",
      " 'SIKKIM' 'Delhi' nan 'ANDAMAN & NICOBAR ' 'Punjab' 'Rajshthan' 'Manipur'\n",
      " 'rajasthan' 'Odisha' 'NL' 'Bihar' 'MIZORAM' 'punjab' 'New Delhi'\n",
      " 'Rajasthan' 'Punjab/Mohali/Zirakpur' 'Puducherry' 'delhi' 'RJ'\n",
      " 'Chandigarh' 'orissa' 'LAKSHADWEEP' 'goa' 'PB' 'APO' 'Arunachal Pradesh'\n",
      " 'AR' 'Pondicherry' 'Sikkim' 'Arunachal pradesh' 'Nagaland' 'bihar'\n",
      " 'Mizoram' 'rajsthan' 'Orissa' 'Rajsthan' 'Meghalaya']\n",
      "\n",
      " **************************************************************************************************** \n",
      "\n",
      "ship_country\n",
      "1\n",
      "['IN' nan]\n",
      "\n",
      " **************************************************************************************************** \n",
      "\n",
      "promotion_ids\n",
      "5787\n",
      "[nan\n",
      " 'Amazon PLCC Free-Financing Universal Merchant AAT-WNKTBO3K27EJC,Amazon PLCC Free-Financing Universal Merchant AAT-QX3UCCJESKPA2,Amazon PLCC Free-Financing Universal Merchant AAT-5QQ7BIYYQEDN2,Amazon PLCC Free-Financing Universal Merchant AAT-DSJ2QRXXWXVMQ,Amazon PLCC Free-Financing Universal Merchant AAT-CXJHMC2YJUK76,Amazon PLCC Free-Financing Universal Merchant AAT-CC4FAVTYR4X7C,Amazon PLCC Free-Financing Universal Merchant AAT-XXRCW6NZEPZI4,Amazon PLCC Free-Financing Universal Merchant AAT-CXNSLNBROFDW4,Amazon PLCC Free-Financing Universal Merchant AAT-R7GXNZWISTRFA,Amazon PLCC Free-Financing Universal Merchant AAT-WSJLDN3X7KEMO,Amazon PLCC Free-Financing Universal Merchant AAT-VL6FGQVGQVXUS,Amazon PLCC Free-Financing Universal Merchant AAT-EOKPWFWYW7Y6I,Amazon PLCC Free-Financing Universal Merchant AAT-ZYL5UPUNW6T62,Amazon PLCC Free-Financing Universal Merchant AAT-XVPICCHRWDCAI,Amazon PLCC Free-Financing Universal Merchant AAT-ETXQ3XXWMRXBG,Amazon PLCC Free-Financing Universal Merchant AAT-7X3XCTYG64VBE,Amazon PLCC Free-Financing Universal Merchant AAT-7CHGD3WTS3MHM,Amazon PLCC Free-Financing Universal Merchant AAT-26ZDKNME27X42,Amazon PLCC Free-Financing Universal Merchant AAT-4ZF5KN6E4LJK4,Amazon PLCC Free-Financing Universal Merchant AAT-7RCXIKUAX7DDY,Amazon PLCC Free-Financing Universal Merchant AAT-BRSZZ45H6MHAO,Amazon PLCC Free-Financing Universal Merchant AAT-MKLXOOZWQL7GO,Amazon PLCC Free-Financing Universal Merchant AAT-CB7UNXEXGIJTC,Amazon PLCC Free-Financing Universal Merchant #MP-gzasho-1593152694811,Amazon PLCC Free-Financing Universal Merchant AAT-WLBA4GZ52EAH4'\n",
      " 'IN Core Free Shipping 2015/04/08 23-48-5-108' ...\n",
      " 'Amazon PLCC Free-Financing Universal Merchant AAT-WNKTBO3K27EJC,Amazon PLCC Free-Financing Universal Merchant AAT-QX3UCCJESKPA2,Amazon PLCC Free-Financing Universal Merchant AAT-5QQ7BIYYQEDN2,Amazon PLCC Free-Financing Universal Merchant AAT-DSJ2QRXXWXVMQ,Amazon PLCC Free-Financing Universal Merchant AAT-CXJHMC2YJUK76,Amazon PLCC Free-Financing Universal Merchant AAT-SL3Y2YRMAUNFC,Amazon PLCC Free-Financing Universal Merchant AAT-CC4FAVTYR4X7C,Amazon PLCC Free-Financing Universal Merchant AAT-EWAPBB6BDRGM6,Amazon PLCC Free-Financing Universal Merchant AAT-EOKPWFWYW7Y6I,Amazon PLCC Free-Financing Universal Merchant AAT-5ZEB2OGNZ32MC,Amazon PLCC Free-Financing Universal Merchant AAT-NT3ZJJGQ3JK3Q,Amazon PLCC Free-Financing Universal Merchant AAT-TNYBHEAO7HOHO,Amazon PLCC Free-Financing Universal Merchant AAT-BRSZZ45H6MHAO,Amazon PLCC Free-Financing Universal Merchant AAT-MKLXOOZWQL7GO,Amazon PLCC Free-Financing Universal Merchant AAT-CB7UNXEXGIJTC,Amazon PLCC Free-Financing Universal Merchant #MP-gzasho-1593152694811,Amazon PLCC Free-Financing Universal Merchant AAT-WLBA4GZ52EAH4,Amazon PLCC Free-Financing Universal Merchant AAT-QMFZ3M7T5NPDS,Amazon PLCC Free-Financing Universal Merchant #MP-pmilan-1601980554292'\n",
      " 'Amazon PLCC Free-Financing Universal Merchant AAT-WNKTBO3K27EJC,Amazon PLCC Free-Financing Universal Merchant AAT-QX3UCCJESKPA2,Amazon PLCC Free-Financing Universal Merchant AAT-5QQ7BIYYQEDN2,Amazon PLCC Free-Financing Universal Merchant AAT-DSJ2QRXXWXVMQ,Amazon PLCC Free-Financing Universal Merchant AAT-CXJHMC2YJUK76,Amazon PLCC Free-Financing Universal Merchant AAT-SL3Y2YRMAUNFC,Amazon PLCC Free-Financing Universal Merchant AAT-CC4FAVTYR4X7C,Amazon PLCC Free-Financing Universal Merchant AAT-EWAPBB6BDRGM6,Amazon PLCC Free-Financing Universal Merchant AAT-R7GXNZWISTRFA,Amazon PLCC Free-Financing Universal Merchant AAT-EOKPWFWYW7Y6I,Amazon PLCC Free-Financing Universal Merchant AAT-5ZEB2OGNZ32MC,Amazon PLCC Free-Financing Universal Merchant AAT-NT3ZJJGQ3JK3Q,Amazon PLCC Free-Financing Universal Merchant AAT-5SHH3G55USK5C,Amazon PLCC Free-Financing Universal Merchant AAT-BRSZZ45H6MHAO,Amazon PLCC Free-Financing Universal Merchant AAT-MKLXOOZWQL7GO,Amazon PLCC Free-Financing Universal Merchant AAT-CB7UNXEXGIJTC,Amazon PLCC Free-Financing Universal Merchant #MP-gzasho-1593152694811,Amazon PLCC Free-Financing Universal Merchant AAT-WLBA4GZ52EAH4'\n",
      " 'Amazon PLCC Free-Financing Universal Merchant AAT-WNKTBO3K27EJC,Amazon PLCC Free-Financing Universal Merchant AAT-QX3UCCJESKPA2,Amazon PLCC Free-Financing Universal Merchant AAT-5QQ7BIYYQEDN2,Amazon PLCC Free-Financing Universal Merchant AAT-DSJ2QRXXWXVMQ,Amazon PLCC Free-Financing Universal Merchant AAT-CXJHMC2YJUK76,Amazon PLCC Free-Financing Universal Merchant AAT-CC4FAVTYR4X7C,Amazon PLCC Free-Financing Universal Merchant AAT-EWAPBB6BDRGM6,Amazon PLCC Free-Financing Universal Merchant AAT-R7GXNZWISTRFA,Amazon PLCC Free-Financing Universal Merchant AAT-EOKPWFWYW7Y6I,Amazon PLCC Free-Financing Universal Merchant AAT-NT3ZJJGQ3JK3Q,Amazon PLCC Free-Financing Universal Merchant AAT-5SHH3G55USK5C,Amazon PLCC Free-Financing Universal Merchant AAT-TNYBHEAO7HOHO,Amazon PLCC Free-Financing Universal Merchant AAT-BRSZZ45H6MHAO,Amazon PLCC Free-Financing Universal Merchant AAT-MKLXOOZWQL7GO,Amazon PLCC Free-Financing Universal Merchant AAT-CB7UNXEXGIJTC,Amazon PLCC Free-Financing Universal Merchant #MP-gzasho-1593152694811,Amazon PLCC Free-Financing Universal Merchant AAT-WLBA4GZ52EAH4,Amazon PLCC Free-Financing Universal Merchant AAT-QMFZ3M7T5NPDS,Amazon PLCC Free-Financing Universal Merchant #MP-pmilan-1601980554292']\n",
      "\n",
      " **************************************************************************************************** \n",
      "\n",
      "fulfilled_by\n",
      "1\n",
      "['Easy Ship' nan]\n",
      "\n",
      " **************************************************************************************************** \n",
      "\n",
      "unnamed:_22\n",
      "1\n",
      "[nan False]\n",
      "\n",
      " **************************************************************************************************** \n",
      "\n"
     ]
    }
   ],
   "source": [
    "for col in cat_cols:\n",
    "    print(col)\n",
    "    print(df[col].nunique())\n",
    "    print(df[col].unique())\n",
    "    print('\\n', '*' * 100, '\\n')"
   ]
  },
  {
   "cell_type": "code",
<<<<<<< HEAD
   "execution_count": 259,
=======
   "execution_count": 13,
>>>>>>> dd0e3ff (add 2 questions)
   "metadata": {},
   "outputs": [],
   "source": [
    "with open('cat_cols.txt', 'w') as f:\n",
    "\n",
    "    for col in cat_cols:\n",
    "        f.write(f\"{col}\\n\")\n",
    "        f.write(f\"{df[col].nunique()}\\n\")\n",
    "        f.write(f\"{df[col].unique()}\\n\")\n",
    "        f.write(f\"{'*' * 100}\\n\")"
   ]
  },
  {
   "cell_type": "code",
<<<<<<< HEAD
   "execution_count": 260,
=======
   "execution_count": 14,
>>>>>>> dd0e3ff (add 2 questions)
   "metadata": {},
   "outputs": [
    {
     "name": "stdout",
     "output_type": "stream",
     "text": [
      "the number of the rows i dont know its address id : 33\n",
      "the precentage of the rows that have address : 99.97441364605544\n"
     ]
    }
   ],
   "source": [
    "# this is the number of the rows i dont know its address id : 33\n",
    "# df[df['ship_city'].isnull() & df['ship_state'].isnull() & df['ship_postal_code'].isnull() & df['ship_country'].isnull()].shape[0]\n",
    "\n",
    "# the precentage of the rows that have address : 99.97441245570641\n",
    "# (df.dropna(subset= ['ship_city', 'ship_state', 'ship_postal_code', 'ship_country']).shape[0] / df.shape[0]) * 100\n",
    "\n",
    "print('the number of the rows i dont know its address id :', df[df['ship_city'].isnull() & df['ship_state'].isnull() & df['ship_postal_code'].isnull() & df['ship_country'].isnull()].shape[0])\n",
    "print('the precentage of the rows that have address :', (df.dropna(subset= ['ship_city', 'ship_state', 'ship_postal_code', 'ship_country']).shape[0] / df.shape[0]) * 100)"
   ]
  },
  {
   "cell_type": "code",
<<<<<<< HEAD
   "execution_count": 261,
=======
   "execution_count": 15,
>>>>>>> dd0e3ff (add 2 questions)
   "metadata": {},
   "outputs": [],
   "source": [
    "# 02 - there is 33 out of 128975 rows where the address is null so i will drop it \n",
    "\n",
    "df.dropna(subset= ['ship_city', 'ship_state', 'ship_postal_code', 'ship_country'], inplace=True)"
   ]
  },
  {
   "cell_type": "code",
<<<<<<< HEAD
   "execution_count": 262,
=======
   "execution_count": 16,
>>>>>>> dd0e3ff (add 2 questions)
   "metadata": {},
   "outputs": [],
   "source": [
    "# 03 - the unnamed:_22 and fulfilled_by did not give any usefull info so i will drop them.\n",
    "df.drop(columns=['unnamed:_22', 'fulfilled_by'], inplace=True)"
   ]
  },
  {
   "cell_type": "code",
<<<<<<< HEAD
   "execution_count": 263,
=======
   "execution_count": 17,
>>>>>>> dd0e3ff (add 2 questions)
   "metadata": {},
   "outputs": [
    {
     "name": "stdout",
     "output_type": "stream",
     "text": [
      "the number of duplicated values: 6\n"
     ]
    }
   ],
   "source": [
    "# checking the duplicated values\n",
    "print('the number of duplicated values:', df.duplicated().sum())"
   ]
  },
  {
   "cell_type": "code",
<<<<<<< HEAD
   "execution_count": 264,
=======
   "execution_count": 18,
>>>>>>> dd0e3ff (add 2 questions)
   "metadata": {},
   "outputs": [],
   "source": [
    "# drop hte duplicated values\n",
    "df.drop_duplicates(inplace=True)"
   ]
  },
  {
   "cell_type": "code",
<<<<<<< HEAD
   "execution_count": 265,
=======
   "execution_count": 19,
>>>>>>> dd0e3ff (add 2 questions)
   "metadata": {},
   "outputs": [
    {
     "data": {
      "text/plain": [
       "order_id               0.000000\n",
       "date                   0.000000\n",
       "status                 0.000000\n",
       "fulfilment             0.000000\n",
       "sales_channel          0.000000\n",
       "ship_service_level     0.000000\n",
       "style                  0.000000\n",
       "sku                    0.000000\n",
       "category               0.000000\n",
       "size                   0.000000\n",
       "asin                   0.000000\n",
       "courier_status         5.327449\n",
       "qty                    0.000000\n",
       "currency               6.041757\n",
       "amount                 6.041757\n",
       "ship_city              0.000000\n",
       "ship_state             0.000000\n",
       "ship_postal_code       0.000000\n",
       "ship_country           0.000000\n",
       "promotion_ids         38.113483\n",
       "b2b                    0.000000\n",
       "dtype: float64"
      ]
     },
<<<<<<< HEAD
     "execution_count": 265,
=======
     "execution_count": 19,
>>>>>>> dd0e3ff (add 2 questions)
     "metadata": {},
     "output_type": "execute_result"
    }
   ],
   "source": [
    "# checking the null values again\n",
    "df.isnull().mean()*100"
   ]
  },
  {
   "cell_type": "code",
<<<<<<< HEAD
   "execution_count": 266,
=======
   "execution_count": 20,
>>>>>>> dd0e3ff (add 2 questions)
   "metadata": {},
   "outputs": [
    {
     "name": "stdout",
     "output_type": "stream",
     "text": [
      "number of rows: 128936\n"
     ]
    }
   ],
   "source": [
    "print('number of rows:', df.shape[0])"
   ]
  },
  {
   "cell_type": "code",
<<<<<<< HEAD
   "execution_count": 267,
=======
   "execution_count": 21,
>>>>>>> dd0e3ff (add 2 questions)
   "metadata": {},
   "outputs": [
    {
     "name": "stderr",
     "output_type": "stream",
     "text": [
      "/tmp/ipykernel_6862/945229697.py:2: UserWarning: Could not infer format, so each element will be parsed individually, falling back to `dateutil`. To ensure parsing is consistent and as-expected, please specify a format.\n",
      "  df.date = pd.to_datetime(df.date)\n"
     ]
    },
    {
     "data": {
      "text/plain": [
       "index\n",
       "0        2022-04-30\n",
       "1        2022-04-30\n",
       "2        2022-04-30\n",
       "3        2022-04-30\n",
       "4        2022-04-30\n",
       "            ...    \n",
       "128970   2022-05-31\n",
       "128971   2022-05-31\n",
       "128972   2022-05-31\n",
       "128973   2022-05-31\n",
       "128974   2022-05-31\n",
       "Name: date, Length: 128936, dtype: datetime64[ns]"
      ]
     },
<<<<<<< HEAD
     "execution_count": 267,
=======
     "execution_count": 21,
>>>>>>> dd0e3ff (add 2 questions)
     "metadata": {},
     "output_type": "execute_result"
    }
   ],
   "source": [
    "# 04 - the date column type needs to change into ===> datetime64\n",
    "df.date = pd.to_datetime(df.date)\n",
    "df.date"
   ]
  },
  {
   "cell_type": "code",
<<<<<<< HEAD
   "execution_count": 268,
=======
   "execution_count": 22,
>>>>>>> dd0e3ff (add 2 questions)
   "metadata": {},
   "outputs": [],
   "source": [
    "# 05 - the ship-postal-code type needs to change into ===> int\n",
    "df['ship_postal_code']=df['ship_postal_code'].astype('int')\n"
   ]
  },
  {
   "cell_type": "code",
<<<<<<< HEAD
   "execution_count": 269,
=======
   "execution_count": 23,
>>>>>>> dd0e3ff (add 2 questions)
   "metadata": {},
   "outputs": [],
   "source": [
    "# 06 - the 'qty' column need to be rename into ==> 'Quantity'\n",
    "df.rename(columns={'qty': 'Quantity'}, inplace=True)"
   ]
  },
  {
   "cell_type": "code",
<<<<<<< HEAD
   "execution_count": 270,
=======
   "execution_count": 24,
>>>>>>> dd0e3ff (add 2 questions)
   "metadata": {},
   "outputs": [
    {
     "data": {
      "text/plain": [
       "order_id                      object\n",
       "date                  datetime64[ns]\n",
       "status                        object\n",
       "fulfilment                    object\n",
       "sales_channel                 object\n",
       "ship_service_level            object\n",
       "style                         object\n",
       "sku                           object\n",
       "category                      object\n",
       "size                          object\n",
       "asin                          object\n",
       "courier_status                object\n",
       "Quantity                       int64\n",
       "currency                      object\n",
       "amount                       float64\n",
       "ship_city                     object\n",
       "ship_state                    object\n",
       "ship_postal_code               int64\n",
       "ship_country                  object\n",
       "promotion_ids                 object\n",
       "b2b                             bool\n",
       "dtype: object"
      ]
     },
<<<<<<< HEAD
     "execution_count": 270,
=======
     "execution_count": 24,
>>>>>>> dd0e3ff (add 2 questions)
     "metadata": {},
     "output_type": "execute_result"
    }
   ],
   "source": [
    "# checking the data types and names ensure that the changes are applied\n",
    "df.dtypes\n"
   ]
  },
  {
   "cell_type": "code",
<<<<<<< HEAD
   "execution_count": 271,
=======
   "execution_count": 25,
>>>>>>> dd0e3ff (add 2 questions)
   "metadata": {},
   "outputs": [
    {
     "name": "stdout",
     "output_type": "stream",
     "text": [
      "the number of the states: 69\n",
      "the number of the cities: 8955\n"
     ]
    }
   ],
   "source": [
    "# checking the number of the unique values in the state and city columns\n",
    "print('the number of the states:', df['ship_state'].nunique())\n",
    "print('the number of the cities:', df['ship_city'].nunique())"
   ]
  },
  {
   "cell_type": "code",
<<<<<<< HEAD
   "execution_count": 272,
=======
   "execution_count": 26,
>>>>>>> dd0e3ff (add 2 questions)
   "metadata": {},
   "outputs": [],
   "source": [
    "# 07 - Some states and cities have the same meaning but are written in different styles\n",
    "df['ship_state'] = df['ship_state'].str.lower().str.strip()\n",
    "df['ship_city'] = df['ship_city'].str.lower().str.strip()\n"
   ]
  },
  {
   "cell_type": "code",
<<<<<<< HEAD
   "execution_count": 273,
=======
   "execution_count": 27,
>>>>>>> dd0e3ff (add 2 questions)
   "metadata": {},
   "outputs": [
    {
     "name": "stdout",
     "output_type": "stream",
     "text": [
      "the number of the states: 47\n",
      "the number of the cities: 7297\n"
     ]
    }
   ],
   "source": [
    "# checking the number of the unique values in the state and city columns\n",
    "print('the number of the states:', df['ship_state'].nunique())\n",
    "print('the number of the cities:', df['ship_city'].nunique())"
   ]
  },
  {
   "cell_type": "code",
<<<<<<< HEAD
   "execution_count": 274,
=======
   "execution_count": 28,
>>>>>>> dd0e3ff (add 2 questions)
   "metadata": {},
   "outputs": [
    {
     "data": {
      "text/plain": [
       "array(['INR', nan], dtype=object)"
      ]
     },
<<<<<<< HEAD
     "execution_count": 274,
=======
     "execution_count": 28,
>>>>>>> dd0e3ff (add 2 questions)
     "metadata": {},
     "output_type": "execute_result"
    }
   ],
   "source": [
    "# checking the unique values in the currency column\n",
    "df['currency'].unique()"
   ]
  },
  {
   "cell_type": "code",
<<<<<<< HEAD
   "execution_count": 275,
=======
   "execution_count": 29,
>>>>>>> dd0e3ff (add 2 questions)
   "metadata": {},
   "outputs": [
    {
     "name": "stderr",
     "output_type": "stream",
     "text": [
      "/tmp/ipykernel_6862/1528635270.py:2: FutureWarning: A value is trying to be set on a copy of a DataFrame or Series through chained assignment using an inplace method.\n",
      "The behavior will change in pandas 3.0. This inplace method will never work because the intermediate object on which we are setting values always behaves as a copy.\n",
      "\n",
      "For example, when doing 'df[col].method(value, inplace=True)', try using 'df.method({col: value}, inplace=True)' or df[col] = df[col].method(value) instead, to perform the operation inplace on the original object.\n",
      "\n",
      "\n",
      "  df['currency'].fillna('INR', inplace=True)\n"
     ]
    }
   ],
   "source": [
    "# 08 - the currency should be INR since this data from india and also i did not found any other currency\n",
    "df['currency'].fillna('INR', inplace=True)"
   ]
  },
  {
   "cell_type": "code",
<<<<<<< HEAD
   "execution_count": 276,
=======
   "execution_count": 30,
>>>>>>> dd0e3ff (add 2 questions)
   "metadata": {},
   "outputs": [
    {
     "data": {
      "text/plain": [
       "array(['INR'], dtype=object)"
      ]
     },
<<<<<<< HEAD
     "execution_count": 276,
=======
     "execution_count": 30,
>>>>>>> dd0e3ff (add 2 questions)
     "metadata": {},
     "output_type": "execute_result"
    }
   ],
   "source": [
    "# Re-checking the unique values in the currency column\n",
    "df['currency'].unique()"
   ]
  },
  {
   "cell_type": "code",
<<<<<<< HEAD
   "execution_count": 277,
=======
   "execution_count": 31,
>>>>>>> dd0e3ff (add 2 questions)
   "metadata": {},
   "outputs": [],
   "source": [
    "# 09 - Replace missing promotion-ids with 'No Promotion'\n",
    "df['promotion_ids'] = df['promotion_ids'].fillna('No Promotion')"
   ]
  },
  {
   "cell_type": "code",
<<<<<<< HEAD
   "execution_count": 278,
=======
   "execution_count": 32,
>>>>>>> dd0e3ff (add 2 questions)
   "metadata": {},
   "outputs": [],
   "source": [
    "# 10 - Fill 'Courier Status' with 'Cancelled' when Status is 'Cancelled'\n",
    "df.loc[df['status'] == 'Cancelled', 'courier_status'] = 'Cancelled'"
   ]
  },
  {
   "cell_type": "code",
<<<<<<< HEAD
   "execution_count": 279,
=======
   "execution_count": 33,
>>>>>>> dd0e3ff (add 2 questions)
   "metadata": {},
   "outputs": [
    {
     "name": "stdout",
     "output_type": "stream",
     "text": [
      "Number of null values in amount column: 0\n"
     ]
    }
   ],
   "source": [
    "#### 11 - handel the Null Amount Values based on style's median unit price and quantity\n",
    "\n",
    "# Calculate median unit price per style where amount and quantity are valid\n",
    "mask_valid = (df['amount'] > 0) & (df['Quantity'] > 0)\n",
    "df['unit_price'] = df['amount'] / df['Quantity']\n",
    "\n",
    "# Calculate median unit price per style\n",
    "median_unit_prices = df[mask_valid].groupby('style')['unit_price'].median()\n",
    "\n",
    "# Fill missing amounts based on style's median unit price and quantity\n",
    "for style in df['style'].unique():\n",
    "    style_mask = (df['style'] == style) & (df['amount'].isna())\n",
    "    if style in median_unit_prices:\n",
    "        df.loc[style_mask, 'amount'] = df.loc[style_mask, 'Quantity'] * median_unit_prices[style]\n",
    "\n",
    "# For any remaining null amounts, use the overall median unit price\n",
    "overall_median_unit_price = df[mask_valid]['unit_price'].median()\n",
    "remaining_null_mask = df['amount'].isna()\n",
    "df.loc[remaining_null_mask, 'amount'] = df.loc[remaining_null_mask, 'Quantity'] * overall_median_unit_price\n",
    "\n",
    "# Clean up the temporary unit_price column\n",
    "df = df.drop('unit_price', axis=1)\n",
    "\n",
    "# Verify the results\n",
    "print('Number of null values in amount column:', df['amount'].isna().sum())"
   ]
  },
  {
   "cell_type": "code",
<<<<<<< HEAD
   "execution_count": 280,
=======
   "execution_count": 34,
>>>>>>> dd0e3ff (add 2 questions)
   "metadata": {},
   "outputs": [
    {
     "data": {
      "text/plain": [
       "np.int64(0)"
      ]
     },
<<<<<<< HEAD
     "execution_count": 280,
=======
     "execution_count": 34,
>>>>>>> dd0e3ff (add 2 questions)
     "metadata": {},
     "output_type": "execute_result"
    }
   ],
   "source": [
    "df.duplicated().sum()"
   ]
  },
  {
   "cell_type": "code",
<<<<<<< HEAD
   "execution_count": 281,
=======
   "execution_count": 35,
>>>>>>> dd0e3ff (add 2 questions)
   "metadata": {},
   "outputs": [
    {
     "data": {
      "text/plain": [
       "order_id               0\n",
       "date                   0\n",
       "status                 0\n",
       "fulfilment             0\n",
       "sales_channel          0\n",
       "ship_service_level     0\n",
       "style                  0\n",
       "sku                    0\n",
       "category               0\n",
       "size                   0\n",
       "asin                   0\n",
       "courier_status        11\n",
       "Quantity               0\n",
       "currency               0\n",
       "amount                 0\n",
       "ship_city              0\n",
       "ship_state             0\n",
       "ship_postal_code       0\n",
       "ship_country           0\n",
       "promotion_ids          0\n",
       "b2b                    0\n",
       "dtype: int64"
      ]
     },
<<<<<<< HEAD
     "execution_count": 281,
     "metadata": {},
     "output_type": "execute_result"
    }
   ],
   "source": [
    "df.isna().sum()"
   ]
  },
  {
   "cell_type": "code",
   "execution_count": 282,
   "metadata": {},
   "outputs": [],
   "source": [
    "df['courier_status'].dropna(inplace=True)"
   ]
  },
  {
   "cell_type": "code",
   "execution_count": 283,
   "metadata": {},
   "outputs": [
    {
     "data": {
      "text/plain": [
       "order_id               0\n",
       "date                   0\n",
       "status                 0\n",
       "fulfilment             0\n",
       "sales_channel          0\n",
       "ship_service_level     0\n",
       "style                  0\n",
       "sku                    0\n",
       "category               0\n",
       "size                   0\n",
       "asin                   0\n",
       "courier_status        11\n",
       "Quantity               0\n",
       "currency               0\n",
       "amount                 0\n",
       "ship_city              0\n",
       "ship_state             0\n",
       "ship_postal_code       0\n",
       "ship_country           0\n",
       "promotion_ids          0\n",
       "b2b                    0\n",
       "dtype: int64"
      ]
     },
     "execution_count": 283,
=======
     "execution_count": 35,
>>>>>>> dd0e3ff (add 2 questions)
     "metadata": {},
     "output_type": "execute_result"
    }
   ],
   "source": [
    "df.isna().sum()"
   ]
  },
  {
   "cell_type": "markdown",
   "metadata": {},
   "source": [
    "### Data Analaysis :-"
   ]
  },
  {
   "cell_type": "code",
   "execution_count": null,
   "metadata": {},
   "outputs": [],
   "source": []
  },
  {
   "cell_type": "code",
   "execution_count": 37,
   "metadata": {},
   "outputs": [
    {
     "ename": "FileNotFoundError",
     "evalue": "[Errno 2] No such file or directory: 'visualizations/top_states_revenue.png'",
     "output_type": "error",
     "traceback": [
      "\u001b[0;31m---------------------------------------------------------------------------\u001b[0m",
      "\u001b[0;31mFileNotFoundError\u001b[0m                         Traceback (most recent call last)",
      "Cell \u001b[0;32mIn[37], line 18\u001b[0m\n\u001b[1;32m     14\u001b[0m     plt\u001b[38;5;241m.\u001b[39mtext(bar\u001b[38;5;241m.\u001b[39mget_x() \u001b[38;5;241m+\u001b[39m bar\u001b[38;5;241m.\u001b[39mget_width()\u001b[38;5;241m/\u001b[39m\u001b[38;5;241m2.\u001b[39m, height \u001b[38;5;241m+\u001b[39m height\u001b[38;5;241m*\u001b[39m\u001b[38;5;241m0.01\u001b[39m,\n\u001b[1;32m     15\u001b[0m              \u001b[38;5;124mf\u001b[39m\u001b[38;5;124m'\u001b[39m\u001b[38;5;124m₹\u001b[39m\u001b[38;5;132;01m{\u001b[39;00mheight\u001b[38;5;132;01m:\u001b[39;00m\u001b[38;5;124m,.0f\u001b[39m\u001b[38;5;132;01m}\u001b[39;00m\u001b[38;5;124m'\u001b[39m, ha\u001b[38;5;241m=\u001b[39m\u001b[38;5;124m'\u001b[39m\u001b[38;5;124mcenter\u001b[39m\u001b[38;5;124m'\u001b[39m, va\u001b[38;5;241m=\u001b[39m\u001b[38;5;124m'\u001b[39m\u001b[38;5;124mbottom\u001b[39m\u001b[38;5;124m'\u001b[39m, fontsize\u001b[38;5;241m=\u001b[39m\u001b[38;5;241m10\u001b[39m)\n\u001b[1;32m     17\u001b[0m plt\u001b[38;5;241m.\u001b[39mtight_layout()\n\u001b[0;32m---> 18\u001b[0m \u001b[43mplt\u001b[49m\u001b[38;5;241;43m.\u001b[39;49m\u001b[43msavefig\u001b[49m\u001b[43m(\u001b[49m\u001b[38;5;124;43m'\u001b[39;49m\u001b[38;5;124;43mvisualizations/top_states_revenue.png\u001b[39;49m\u001b[38;5;124;43m'\u001b[39;49m\u001b[43m,\u001b[49m\u001b[43m \u001b[49m\u001b[43mdpi\u001b[49m\u001b[38;5;241;43m=\u001b[39;49m\u001b[38;5;241;43m300\u001b[39;49m\u001b[43m,\u001b[49m\u001b[43m \u001b[49m\u001b[43mbbox_inches\u001b[49m\u001b[38;5;241;43m=\u001b[39;49m\u001b[38;5;124;43m'\u001b[39;49m\u001b[38;5;124;43mtight\u001b[39;49m\u001b[38;5;124;43m'\u001b[39;49m\u001b[43m)\u001b[49m\n\u001b[1;32m     19\u001b[0m plt\u001b[38;5;241m.\u001b[39mshow()\n",
      "File \u001b[0;32m~/micromamba/envs/datasc/lib/python3.10/site-packages/matplotlib/pyplot.py:1243\u001b[0m, in \u001b[0;36msavefig\u001b[0;34m(*args, **kwargs)\u001b[0m\n\u001b[1;32m   1240\u001b[0m fig \u001b[38;5;241m=\u001b[39m gcf()\n\u001b[1;32m   1241\u001b[0m \u001b[38;5;66;03m# savefig default implementation has no return, so mypy is unhappy\u001b[39;00m\n\u001b[1;32m   1242\u001b[0m \u001b[38;5;66;03m# presumably this is here because subclasses can return?\u001b[39;00m\n\u001b[0;32m-> 1243\u001b[0m res \u001b[38;5;241m=\u001b[39m \u001b[43mfig\u001b[49m\u001b[38;5;241;43m.\u001b[39;49m\u001b[43msavefig\u001b[49m\u001b[43m(\u001b[49m\u001b[38;5;241;43m*\u001b[39;49m\u001b[43margs\u001b[49m\u001b[43m,\u001b[49m\u001b[43m \u001b[49m\u001b[38;5;241;43m*\u001b[39;49m\u001b[38;5;241;43m*\u001b[39;49m\u001b[43mkwargs\u001b[49m\u001b[43m)\u001b[49m  \u001b[38;5;66;03m# type: ignore[func-returns-value]\u001b[39;00m\n\u001b[1;32m   1244\u001b[0m fig\u001b[38;5;241m.\u001b[39mcanvas\u001b[38;5;241m.\u001b[39mdraw_idle()  \u001b[38;5;66;03m# Need this if 'transparent=True', to reset colors.\u001b[39;00m\n\u001b[1;32m   1245\u001b[0m \u001b[38;5;28;01mreturn\u001b[39;00m res\n",
      "File \u001b[0;32m~/micromamba/envs/datasc/lib/python3.10/site-packages/matplotlib/figure.py:3490\u001b[0m, in \u001b[0;36mFigure.savefig\u001b[0;34m(self, fname, transparent, **kwargs)\u001b[0m\n\u001b[1;32m   3488\u001b[0m     \u001b[38;5;28;01mfor\u001b[39;00m ax \u001b[38;5;129;01min\u001b[39;00m \u001b[38;5;28mself\u001b[39m\u001b[38;5;241m.\u001b[39maxes:\n\u001b[1;32m   3489\u001b[0m         _recursively_make_axes_transparent(stack, ax)\n\u001b[0;32m-> 3490\u001b[0m \u001b[38;5;28;43mself\u001b[39;49m\u001b[38;5;241;43m.\u001b[39;49m\u001b[43mcanvas\u001b[49m\u001b[38;5;241;43m.\u001b[39;49m\u001b[43mprint_figure\u001b[49m\u001b[43m(\u001b[49m\u001b[43mfname\u001b[49m\u001b[43m,\u001b[49m\u001b[43m \u001b[49m\u001b[38;5;241;43m*\u001b[39;49m\u001b[38;5;241;43m*\u001b[39;49m\u001b[43mkwargs\u001b[49m\u001b[43m)\u001b[49m\n",
      "File \u001b[0;32m~/micromamba/envs/datasc/lib/python3.10/site-packages/matplotlib/backend_bases.py:2184\u001b[0m, in \u001b[0;36mFigureCanvasBase.print_figure\u001b[0;34m(self, filename, dpi, facecolor, edgecolor, orientation, format, bbox_inches, pad_inches, bbox_extra_artists, backend, **kwargs)\u001b[0m\n\u001b[1;32m   2180\u001b[0m \u001b[38;5;28;01mtry\u001b[39;00m:\n\u001b[1;32m   2181\u001b[0m     \u001b[38;5;66;03m# _get_renderer may change the figure dpi (as vector formats\u001b[39;00m\n\u001b[1;32m   2182\u001b[0m     \u001b[38;5;66;03m# force the figure dpi to 72), so we need to set it again here.\u001b[39;00m\n\u001b[1;32m   2183\u001b[0m     \u001b[38;5;28;01mwith\u001b[39;00m cbook\u001b[38;5;241m.\u001b[39m_setattr_cm(\u001b[38;5;28mself\u001b[39m\u001b[38;5;241m.\u001b[39mfigure, dpi\u001b[38;5;241m=\u001b[39mdpi):\n\u001b[0;32m-> 2184\u001b[0m         result \u001b[38;5;241m=\u001b[39m \u001b[43mprint_method\u001b[49m\u001b[43m(\u001b[49m\n\u001b[1;32m   2185\u001b[0m \u001b[43m            \u001b[49m\u001b[43mfilename\u001b[49m\u001b[43m,\u001b[49m\n\u001b[1;32m   2186\u001b[0m \u001b[43m            \u001b[49m\u001b[43mfacecolor\u001b[49m\u001b[38;5;241;43m=\u001b[39;49m\u001b[43mfacecolor\u001b[49m\u001b[43m,\u001b[49m\n\u001b[1;32m   2187\u001b[0m \u001b[43m            \u001b[49m\u001b[43medgecolor\u001b[49m\u001b[38;5;241;43m=\u001b[39;49m\u001b[43medgecolor\u001b[49m\u001b[43m,\u001b[49m\n\u001b[1;32m   2188\u001b[0m \u001b[43m            \u001b[49m\u001b[43morientation\u001b[49m\u001b[38;5;241;43m=\u001b[39;49m\u001b[43morientation\u001b[49m\u001b[43m,\u001b[49m\n\u001b[1;32m   2189\u001b[0m \u001b[43m            \u001b[49m\u001b[43mbbox_inches_restore\u001b[49m\u001b[38;5;241;43m=\u001b[39;49m\u001b[43m_bbox_inches_restore\u001b[49m\u001b[43m,\u001b[49m\n\u001b[1;32m   2190\u001b[0m \u001b[43m            \u001b[49m\u001b[38;5;241;43m*\u001b[39;49m\u001b[38;5;241;43m*\u001b[39;49m\u001b[43mkwargs\u001b[49m\u001b[43m)\u001b[49m\n\u001b[1;32m   2191\u001b[0m \u001b[38;5;28;01mfinally\u001b[39;00m:\n\u001b[1;32m   2192\u001b[0m     \u001b[38;5;28;01mif\u001b[39;00m bbox_inches \u001b[38;5;129;01mand\u001b[39;00m restore_bbox:\n",
      "File \u001b[0;32m~/micromamba/envs/datasc/lib/python3.10/site-packages/matplotlib/backend_bases.py:2040\u001b[0m, in \u001b[0;36mFigureCanvasBase._switch_canvas_and_return_print_method.<locals>.<lambda>\u001b[0;34m(*args, **kwargs)\u001b[0m\n\u001b[1;32m   2036\u001b[0m     optional_kws \u001b[38;5;241m=\u001b[39m {  \u001b[38;5;66;03m# Passed by print_figure for other renderers.\u001b[39;00m\n\u001b[1;32m   2037\u001b[0m         \u001b[38;5;124m\"\u001b[39m\u001b[38;5;124mdpi\u001b[39m\u001b[38;5;124m\"\u001b[39m, \u001b[38;5;124m\"\u001b[39m\u001b[38;5;124mfacecolor\u001b[39m\u001b[38;5;124m\"\u001b[39m, \u001b[38;5;124m\"\u001b[39m\u001b[38;5;124medgecolor\u001b[39m\u001b[38;5;124m\"\u001b[39m, \u001b[38;5;124m\"\u001b[39m\u001b[38;5;124morientation\u001b[39m\u001b[38;5;124m\"\u001b[39m,\n\u001b[1;32m   2038\u001b[0m         \u001b[38;5;124m\"\u001b[39m\u001b[38;5;124mbbox_inches_restore\u001b[39m\u001b[38;5;124m\"\u001b[39m}\n\u001b[1;32m   2039\u001b[0m     skip \u001b[38;5;241m=\u001b[39m optional_kws \u001b[38;5;241m-\u001b[39m {\u001b[38;5;241m*\u001b[39minspect\u001b[38;5;241m.\u001b[39msignature(meth)\u001b[38;5;241m.\u001b[39mparameters}\n\u001b[0;32m-> 2040\u001b[0m     print_method \u001b[38;5;241m=\u001b[39m functools\u001b[38;5;241m.\u001b[39mwraps(meth)(\u001b[38;5;28;01mlambda\u001b[39;00m \u001b[38;5;241m*\u001b[39margs, \u001b[38;5;241m*\u001b[39m\u001b[38;5;241m*\u001b[39mkwargs: \u001b[43mmeth\u001b[49m\u001b[43m(\u001b[49m\n\u001b[1;32m   2041\u001b[0m \u001b[43m        \u001b[49m\u001b[38;5;241;43m*\u001b[39;49m\u001b[43margs\u001b[49m\u001b[43m,\u001b[49m\u001b[43m \u001b[49m\u001b[38;5;241;43m*\u001b[39;49m\u001b[38;5;241;43m*\u001b[39;49m\u001b[43m{\u001b[49m\u001b[43mk\u001b[49m\u001b[43m:\u001b[49m\u001b[43m \u001b[49m\u001b[43mv\u001b[49m\u001b[43m \u001b[49m\u001b[38;5;28;43;01mfor\u001b[39;49;00m\u001b[43m \u001b[49m\u001b[43mk\u001b[49m\u001b[43m,\u001b[49m\u001b[43m \u001b[49m\u001b[43mv\u001b[49m\u001b[43m \u001b[49m\u001b[38;5;129;43;01min\u001b[39;49;00m\u001b[43m \u001b[49m\u001b[43mkwargs\u001b[49m\u001b[38;5;241;43m.\u001b[39;49m\u001b[43mitems\u001b[49m\u001b[43m(\u001b[49m\u001b[43m)\u001b[49m\u001b[43m \u001b[49m\u001b[38;5;28;43;01mif\u001b[39;49;00m\u001b[43m \u001b[49m\u001b[43mk\u001b[49m\u001b[43m \u001b[49m\u001b[38;5;129;43;01mnot\u001b[39;49;00m\u001b[43m \u001b[49m\u001b[38;5;129;43;01min\u001b[39;49;00m\u001b[43m \u001b[49m\u001b[43mskip\u001b[49m\u001b[43m}\u001b[49m\u001b[43m)\u001b[49m)\n\u001b[1;32m   2042\u001b[0m \u001b[38;5;28;01melse\u001b[39;00m:  \u001b[38;5;66;03m# Let third-parties do as they see fit.\u001b[39;00m\n\u001b[1;32m   2043\u001b[0m     print_method \u001b[38;5;241m=\u001b[39m meth\n",
      "File \u001b[0;32m~/micromamba/envs/datasc/lib/python3.10/site-packages/matplotlib/backends/backend_agg.py:481\u001b[0m, in \u001b[0;36mFigureCanvasAgg.print_png\u001b[0;34m(self, filename_or_obj, metadata, pil_kwargs)\u001b[0m\n\u001b[1;32m    434\u001b[0m \u001b[38;5;28;01mdef\u001b[39;00m\u001b[38;5;250m \u001b[39m\u001b[38;5;21mprint_png\u001b[39m(\u001b[38;5;28mself\u001b[39m, filename_or_obj, \u001b[38;5;241m*\u001b[39m, metadata\u001b[38;5;241m=\u001b[39m\u001b[38;5;28;01mNone\u001b[39;00m, pil_kwargs\u001b[38;5;241m=\u001b[39m\u001b[38;5;28;01mNone\u001b[39;00m):\n\u001b[1;32m    435\u001b[0m \u001b[38;5;250m    \u001b[39m\u001b[38;5;124;03m\"\"\"\u001b[39;00m\n\u001b[1;32m    436\u001b[0m \u001b[38;5;124;03m    Write the figure to a PNG file.\u001b[39;00m\n\u001b[1;32m    437\u001b[0m \n\u001b[0;32m   (...)\u001b[0m\n\u001b[1;32m    479\u001b[0m \u001b[38;5;124;03m        *metadata*, including the default 'Software' key.\u001b[39;00m\n\u001b[1;32m    480\u001b[0m \u001b[38;5;124;03m    \"\"\"\u001b[39;00m\n\u001b[0;32m--> 481\u001b[0m     \u001b[38;5;28;43mself\u001b[39;49m\u001b[38;5;241;43m.\u001b[39;49m\u001b[43m_print_pil\u001b[49m\u001b[43m(\u001b[49m\u001b[43mfilename_or_obj\u001b[49m\u001b[43m,\u001b[49m\u001b[43m \u001b[49m\u001b[38;5;124;43m\"\u001b[39;49m\u001b[38;5;124;43mpng\u001b[39;49m\u001b[38;5;124;43m\"\u001b[39;49m\u001b[43m,\u001b[49m\u001b[43m \u001b[49m\u001b[43mpil_kwargs\u001b[49m\u001b[43m,\u001b[49m\u001b[43m \u001b[49m\u001b[43mmetadata\u001b[49m\u001b[43m)\u001b[49m\n",
      "File \u001b[0;32m~/micromamba/envs/datasc/lib/python3.10/site-packages/matplotlib/backends/backend_agg.py:430\u001b[0m, in \u001b[0;36mFigureCanvasAgg._print_pil\u001b[0;34m(self, filename_or_obj, fmt, pil_kwargs, metadata)\u001b[0m\n\u001b[1;32m    425\u001b[0m \u001b[38;5;250m\u001b[39m\u001b[38;5;124;03m\"\"\"\u001b[39;00m\n\u001b[1;32m    426\u001b[0m \u001b[38;5;124;03mDraw the canvas, then save it using `.image.imsave` (to which\u001b[39;00m\n\u001b[1;32m    427\u001b[0m \u001b[38;5;124;03m*pil_kwargs* and *metadata* are forwarded).\u001b[39;00m\n\u001b[1;32m    428\u001b[0m \u001b[38;5;124;03m\"\"\"\u001b[39;00m\n\u001b[1;32m    429\u001b[0m FigureCanvasAgg\u001b[38;5;241m.\u001b[39mdraw(\u001b[38;5;28mself\u001b[39m)\n\u001b[0;32m--> 430\u001b[0m \u001b[43mmpl\u001b[49m\u001b[38;5;241;43m.\u001b[39;49m\u001b[43mimage\u001b[49m\u001b[38;5;241;43m.\u001b[39;49m\u001b[43mimsave\u001b[49m\u001b[43m(\u001b[49m\n\u001b[1;32m    431\u001b[0m \u001b[43m    \u001b[49m\u001b[43mfilename_or_obj\u001b[49m\u001b[43m,\u001b[49m\u001b[43m \u001b[49m\u001b[38;5;28;43mself\u001b[39;49m\u001b[38;5;241;43m.\u001b[39;49m\u001b[43mbuffer_rgba\u001b[49m\u001b[43m(\u001b[49m\u001b[43m)\u001b[49m\u001b[43m,\u001b[49m\u001b[43m \u001b[49m\u001b[38;5;28;43mformat\u001b[39;49m\u001b[38;5;241;43m=\u001b[39;49m\u001b[43mfmt\u001b[49m\u001b[43m,\u001b[49m\u001b[43m \u001b[49m\u001b[43morigin\u001b[49m\u001b[38;5;241;43m=\u001b[39;49m\u001b[38;5;124;43m\"\u001b[39;49m\u001b[38;5;124;43mupper\u001b[39;49m\u001b[38;5;124;43m\"\u001b[39;49m\u001b[43m,\u001b[49m\n\u001b[1;32m    432\u001b[0m \u001b[43m    \u001b[49m\u001b[43mdpi\u001b[49m\u001b[38;5;241;43m=\u001b[39;49m\u001b[38;5;28;43mself\u001b[39;49m\u001b[38;5;241;43m.\u001b[39;49m\u001b[43mfigure\u001b[49m\u001b[38;5;241;43m.\u001b[39;49m\u001b[43mdpi\u001b[49m\u001b[43m,\u001b[49m\u001b[43m \u001b[49m\u001b[43mmetadata\u001b[49m\u001b[38;5;241;43m=\u001b[39;49m\u001b[43mmetadata\u001b[49m\u001b[43m,\u001b[49m\u001b[43m \u001b[49m\u001b[43mpil_kwargs\u001b[49m\u001b[38;5;241;43m=\u001b[39;49m\u001b[43mpil_kwargs\u001b[49m\u001b[43m)\u001b[49m\n",
      "File \u001b[0;32m~/micromamba/envs/datasc/lib/python3.10/site-packages/matplotlib/image.py:1634\u001b[0m, in \u001b[0;36mimsave\u001b[0;34m(fname, arr, vmin, vmax, cmap, format, origin, dpi, metadata, pil_kwargs)\u001b[0m\n\u001b[1;32m   1632\u001b[0m pil_kwargs\u001b[38;5;241m.\u001b[39msetdefault(\u001b[38;5;124m\"\u001b[39m\u001b[38;5;124mformat\u001b[39m\u001b[38;5;124m\"\u001b[39m, \u001b[38;5;28mformat\u001b[39m)\n\u001b[1;32m   1633\u001b[0m pil_kwargs\u001b[38;5;241m.\u001b[39msetdefault(\u001b[38;5;124m\"\u001b[39m\u001b[38;5;124mdpi\u001b[39m\u001b[38;5;124m\"\u001b[39m, (dpi, dpi))\n\u001b[0;32m-> 1634\u001b[0m \u001b[43mimage\u001b[49m\u001b[38;5;241;43m.\u001b[39;49m\u001b[43msave\u001b[49m\u001b[43m(\u001b[49m\u001b[43mfname\u001b[49m\u001b[43m,\u001b[49m\u001b[43m \u001b[49m\u001b[38;5;241;43m*\u001b[39;49m\u001b[38;5;241;43m*\u001b[39;49m\u001b[43mpil_kwargs\u001b[49m\u001b[43m)\u001b[49m\n",
      "File \u001b[0;32m~/micromamba/envs/datasc/lib/python3.10/site-packages/PIL/Image.py:2591\u001b[0m, in \u001b[0;36mImage.save\u001b[0;34m(self, fp, format, **params)\u001b[0m\n\u001b[1;32m   2589\u001b[0m         fp \u001b[38;5;241m=\u001b[39m builtins\u001b[38;5;241m.\u001b[39mopen(filename, \u001b[38;5;124m\"\u001b[39m\u001b[38;5;124mr+b\u001b[39m\u001b[38;5;124m\"\u001b[39m)\n\u001b[1;32m   2590\u001b[0m     \u001b[38;5;28;01melse\u001b[39;00m:\n\u001b[0;32m-> 2591\u001b[0m         fp \u001b[38;5;241m=\u001b[39m \u001b[43mbuiltins\u001b[49m\u001b[38;5;241;43m.\u001b[39;49m\u001b[43mopen\u001b[49m\u001b[43m(\u001b[49m\u001b[43mfilename\u001b[49m\u001b[43m,\u001b[49m\u001b[43m \u001b[49m\u001b[38;5;124;43m\"\u001b[39;49m\u001b[38;5;124;43mw+b\u001b[39;49m\u001b[38;5;124;43m\"\u001b[39;49m\u001b[43m)\u001b[49m\n\u001b[1;32m   2592\u001b[0m \u001b[38;5;28;01melse\u001b[39;00m:\n\u001b[1;32m   2593\u001b[0m     fp \u001b[38;5;241m=\u001b[39m cast(IO[\u001b[38;5;28mbytes\u001b[39m], fp)\n",
      "\u001b[0;31mFileNotFoundError\u001b[0m: [Errno 2] No such file or directory: 'visualizations/top_states_revenue.png'"
     ]
    },
    {
     "data": {
      "image/png": "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",
      "text/plain": [
       "<Figure size 1200x800 with 1 Axes>"
      ]
     },
     "metadata": {},
     "output_type": "display_data"
    }
   ],
   "source": [
    "# Business Question 1: What are the top 10 states by total sales revenue?\n",
    "plt.figure(figsize=(12, 8))\n",
    "state_revenue = df.groupby('ship_state')['amount'].sum().sort_values(ascending=False).head(10)\n",
    "bars = plt.bar(range(len(state_revenue)), state_revenue.values, color='skyblue')\n",
    "plt.xticks(range(len(state_revenue)), state_revenue.index, rotation=45, ha='right')\n",
    "plt.title('Top 10 States by Total Sales Revenue', fontsize=16, fontweight='bold')\n",
    "plt.xlabel('State', fontsize=12)\n",
    "plt.ylabel('Total Revenue (INR)', fontsize=12)\n",
    "plt.grid(axis='y', alpha=0.3)\n",
    "\n",
    "# Add value labels on bars\n",
    "for bar in bars:\n",
    "    height = bar.get_height()\n",
    "    plt.text(bar.get_x() + bar.get_width()/2., height + height*0.01,\n",
    "             f'₹{height:,.0f}', ha='center', va='bottom', fontsize=10)\n",
    "\n",
    "plt.tight_layout()\n",
    "plt.savefig('visualizations/top_states_revenue.png', dpi=300, bbox_inches='tight')\n",
    "plt.show()"
   ]
  },
  {
   "cell_type": "code",
   "execution_count": 38,
   "metadata": {},
   "outputs": [
    {
     "ename": "AttributeError",
     "evalue": "Can only use .dt accessor with datetimelike values",
     "output_type": "error",
     "traceback": [
      "\u001b[0;31m---------------------------------------------------------------------------\u001b[0m",
      "\u001b[0;31mAttributeError\u001b[0m                            Traceback (most recent call last)",
      "Cell \u001b[0;32mIn[38], line 2\u001b[0m\n\u001b[1;32m      1\u001b[0m \u001b[38;5;66;03m# Business Question 2: What is the monthly sales trend over time?\u001b[39;00m\n\u001b[0;32m----> 2\u001b[0m df[\u001b[38;5;124m'\u001b[39m\u001b[38;5;124myear_month\u001b[39m\u001b[38;5;124m'\u001b[39m] \u001b[38;5;241m=\u001b[39m \u001b[43mdf\u001b[49m\u001b[43m[\u001b[49m\u001b[38;5;124;43m'\u001b[39;49m\u001b[38;5;124;43mdate\u001b[39;49m\u001b[38;5;124;43m'\u001b[39;49m\u001b[43m]\u001b[49m\u001b[38;5;241;43m.\u001b[39;49m\u001b[43mdt\u001b[49m\u001b[38;5;241m.\u001b[39mto_period(\u001b[38;5;124m'\u001b[39m\u001b[38;5;124mM\u001b[39m\u001b[38;5;124m'\u001b[39m)\u001b[38;5;241m.\u001b[39mastype(\u001b[38;5;28mstr\u001b[39m)\n\u001b[1;32m      3\u001b[0m monthly_sales \u001b[38;5;241m=\u001b[39m df\u001b[38;5;241m.\u001b[39mgroupby(\u001b[38;5;124m'\u001b[39m\u001b[38;5;124myear_month\u001b[39m\u001b[38;5;124m'\u001b[39m)[\u001b[38;5;124m'\u001b[39m\u001b[38;5;124mamount\u001b[39m\u001b[38;5;124m'\u001b[39m]\u001b[38;5;241m.\u001b[39msum()\u001b[38;5;241m.\u001b[39mreset_index()\n\u001b[1;32m      4\u001b[0m monthly_sales[\u001b[38;5;124m'\u001b[39m\u001b[38;5;124myear_month\u001b[39m\u001b[38;5;124m'\u001b[39m] \u001b[38;5;241m=\u001b[39m pd\u001b[38;5;241m.\u001b[39mto_datetime(monthly_sales[\u001b[38;5;124m'\u001b[39m\u001b[38;5;124myear_month\u001b[39m\u001b[38;5;124m'\u001b[39m])\n",
      "File \u001b[0;32m~/micromamba/envs/datasc/lib/python3.10/site-packages/pandas/core/generic.py:6299\u001b[0m, in \u001b[0;36mNDFrame.__getattr__\u001b[0;34m(self, name)\u001b[0m\n\u001b[1;32m   6292\u001b[0m \u001b[38;5;28;01mif\u001b[39;00m (\n\u001b[1;32m   6293\u001b[0m     name \u001b[38;5;129;01mnot\u001b[39;00m \u001b[38;5;129;01min\u001b[39;00m \u001b[38;5;28mself\u001b[39m\u001b[38;5;241m.\u001b[39m_internal_names_set\n\u001b[1;32m   6294\u001b[0m     \u001b[38;5;129;01mand\u001b[39;00m name \u001b[38;5;129;01mnot\u001b[39;00m \u001b[38;5;129;01min\u001b[39;00m \u001b[38;5;28mself\u001b[39m\u001b[38;5;241m.\u001b[39m_metadata\n\u001b[1;32m   6295\u001b[0m     \u001b[38;5;129;01mand\u001b[39;00m name \u001b[38;5;129;01mnot\u001b[39;00m \u001b[38;5;129;01min\u001b[39;00m \u001b[38;5;28mself\u001b[39m\u001b[38;5;241m.\u001b[39m_accessors\n\u001b[1;32m   6296\u001b[0m     \u001b[38;5;129;01mand\u001b[39;00m \u001b[38;5;28mself\u001b[39m\u001b[38;5;241m.\u001b[39m_info_axis\u001b[38;5;241m.\u001b[39m_can_hold_identifiers_and_holds_name(name)\n\u001b[1;32m   6297\u001b[0m ):\n\u001b[1;32m   6298\u001b[0m     \u001b[38;5;28;01mreturn\u001b[39;00m \u001b[38;5;28mself\u001b[39m[name]\n\u001b[0;32m-> 6299\u001b[0m \u001b[38;5;28;01mreturn\u001b[39;00m \u001b[38;5;28;43mobject\u001b[39;49m\u001b[38;5;241;43m.\u001b[39;49m\u001b[38;5;21;43m__getattribute__\u001b[39;49m\u001b[43m(\u001b[49m\u001b[38;5;28;43mself\u001b[39;49m\u001b[43m,\u001b[49m\u001b[43m \u001b[49m\u001b[43mname\u001b[49m\u001b[43m)\u001b[49m\n",
      "File \u001b[0;32m~/micromamba/envs/datasc/lib/python3.10/site-packages/pandas/core/accessor.py:224\u001b[0m, in \u001b[0;36mCachedAccessor.__get__\u001b[0;34m(self, obj, cls)\u001b[0m\n\u001b[1;32m    221\u001b[0m \u001b[38;5;28;01mif\u001b[39;00m obj \u001b[38;5;129;01mis\u001b[39;00m \u001b[38;5;28;01mNone\u001b[39;00m:\n\u001b[1;32m    222\u001b[0m     \u001b[38;5;66;03m# we're accessing the attribute of the class, i.e., Dataset.geo\u001b[39;00m\n\u001b[1;32m    223\u001b[0m     \u001b[38;5;28;01mreturn\u001b[39;00m \u001b[38;5;28mself\u001b[39m\u001b[38;5;241m.\u001b[39m_accessor\n\u001b[0;32m--> 224\u001b[0m accessor_obj \u001b[38;5;241m=\u001b[39m \u001b[38;5;28;43mself\u001b[39;49m\u001b[38;5;241;43m.\u001b[39;49m\u001b[43m_accessor\u001b[49m\u001b[43m(\u001b[49m\u001b[43mobj\u001b[49m\u001b[43m)\u001b[49m\n\u001b[1;32m    225\u001b[0m \u001b[38;5;66;03m# Replace the property with the accessor object. Inspired by:\u001b[39;00m\n\u001b[1;32m    226\u001b[0m \u001b[38;5;66;03m# https://www.pydanny.com/cached-property.html\u001b[39;00m\n\u001b[1;32m    227\u001b[0m \u001b[38;5;66;03m# We need to use object.__setattr__ because we overwrite __setattr__ on\u001b[39;00m\n\u001b[1;32m    228\u001b[0m \u001b[38;5;66;03m# NDFrame\u001b[39;00m\n\u001b[1;32m    229\u001b[0m \u001b[38;5;28mobject\u001b[39m\u001b[38;5;241m.\u001b[39m\u001b[38;5;21m__setattr__\u001b[39m(obj, \u001b[38;5;28mself\u001b[39m\u001b[38;5;241m.\u001b[39m_name, accessor_obj)\n",
      "File \u001b[0;32m~/micromamba/envs/datasc/lib/python3.10/site-packages/pandas/core/indexes/accessors.py:643\u001b[0m, in \u001b[0;36mCombinedDatetimelikeProperties.__new__\u001b[0;34m(cls, data)\u001b[0m\n\u001b[1;32m    640\u001b[0m \u001b[38;5;28;01melif\u001b[39;00m \u001b[38;5;28misinstance\u001b[39m(data\u001b[38;5;241m.\u001b[39mdtype, PeriodDtype):\n\u001b[1;32m    641\u001b[0m     \u001b[38;5;28;01mreturn\u001b[39;00m PeriodProperties(data, orig)\n\u001b[0;32m--> 643\u001b[0m \u001b[38;5;28;01mraise\u001b[39;00m \u001b[38;5;167;01mAttributeError\u001b[39;00m(\u001b[38;5;124m\"\u001b[39m\u001b[38;5;124mCan only use .dt accessor with datetimelike values\u001b[39m\u001b[38;5;124m\"\u001b[39m)\n",
      "\u001b[0;31mAttributeError\u001b[0m: Can only use .dt accessor with datetimelike values"
     ]
    }
   ],
   "source": [
    "# Business Question 2: What is the monthly sales trend over time?\n",
    "df['year_month'] = df['date'].dt.to_period('M').astype(str)\n",
    "monthly_sales = df.groupby('year_month')['amount'].sum().reset_index()\n",
    "monthly_sales['year_month'] = pd.to_datetime(monthly_sales['year_month'])\n",
    "\n",
    "plt.figure(figsize=(14, 8))\n",
    "plt.plot(monthly_sales['year_month'], monthly_sales['amount'], marker='o', linewidth=2, markersize=8, color='darkblue')\n",
    "plt.title('Monthly Sales Trend Over Time', fontsize=16, fontweight='bold')\n",
    "plt.xlabel('Month', fontsize=12)\n",
    "plt.ylabel('Total Sales (INR)', fontsize=12)\n",
    "plt.grid(True, alpha=0.3)\n",
    "\n",
    "# Add trend line\n",
    "z = np.polyfit(range(len(monthly_sales)), monthly_sales['amount'], 1)\n",
    "p = np.poly1d(z)\n",
    "plt.plot(monthly_sales['year_month'], p(range(len(monthly_sales))), \"r--\", alpha=0.8, label='Trend Line')\n",
    "\n",
    "plt.legend()\n",
    "plt.xticks(rotation=45)\n",
    "plt.tight_layout()\n",
    "plt.savefig('visualizations/monthly_sales_trend.png', dpi=300, bbox_inches='tight')\n",
    "plt.show()\n"
   ]
  },
  {
   "cell_type": "code",
   "execution_count": null,
   "metadata": {},
   "outputs": [],
   "source": []
  },
  {
   "cell_type": "code",
   "execution_count": null,
   "metadata": {},
   "outputs": [],
   "source": []
  },
  {
   "cell_type": "code",
   "execution_count": null,
   "metadata": {},
   "outputs": [],
   "source": []
  },
  {
   "cell_type": "code",
   "execution_count": null,
   "metadata": {},
   "outputs": [],
   "source": []
  },
  {
   "cell_type": "code",
   "execution_count": null,
   "metadata": {},
   "outputs": [],
   "source": []
  }
 ],
 "metadata": {
  "kernelspec": {
   "display_name": "vfx_env",
   "language": "python",
   "name": "python3"
  },
  "language_info": {
   "codemirror_mode": {
    "name": "ipython",
    "version": 3
   },
   "file_extension": ".py",
   "mimetype": "text/x-python",
   "name": "python",
   "nbconvert_exporter": "python",
   "pygments_lexer": "ipython3",
   "version": "3.9.21"
  }
 },
 "nbformat": 4,
 "nbformat_minor": 2
}
