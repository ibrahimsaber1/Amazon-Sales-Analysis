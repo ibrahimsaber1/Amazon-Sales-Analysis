{
 "cells": [
  {
   "cell_type": "markdown",
   "metadata": {},
   "source": [
    "## the dataset i use is ==> https://www.kaggle.com/datasets/mdsazzatsardar/amazonsalesreport"
   ]
  },
  {
   "cell_type": "markdown",
   "metadata": {},
   "source": []
  },
  {
   "cell_type": "code",
   "execution_count": 53,
   "metadata": {},
   "outputs": [],
   "source": [
    "import pandas as pd\n",
    "import numpy as np\n",
    "import matplotlib.pyplot as plt\n",
    "import plotly.express as px\n",
    "import seaborn as se"
   ]
  },
  {
   "cell_type": "markdown",
   "metadata": {},
   "source": [
    "## loading the data :"
   ]
  },
  {
   "cell_type": "code",
   "execution_count": 54,
   "metadata": {},
   "outputs": [
    {
     "name": "stderr",
     "output_type": "stream",
     "text": [
      "C:\\Users\\Seif.Ashraf.DEV02\\AppData\\Local\\Temp\\ipykernel_24300\\966938920.py:2: DtypeWarning: Columns (23) have mixed types. Specify dtype option on import or set low_memory=False.\n",
      "  df = pd.read_csv('./data/Amazon_Sale_Report.csv', index_col=0)\n"
     ]
    },
    {
     "data": {
      "text/html": [
       "<div>\n",
       "<style scoped>\n",
       "    .dataframe tbody tr th:only-of-type {\n",
       "        vertical-align: middle;\n",
       "    }\n",
       "\n",
       "    .dataframe tbody tr th {\n",
       "        vertical-align: top;\n",
       "    }\n",
       "\n",
       "    .dataframe thead th {\n",
       "        text-align: right;\n",
       "    }\n",
       "</style>\n",
       "<table border=\"1\" class=\"dataframe\">\n",
       "  <thead>\n",
       "    <tr style=\"text-align: right;\">\n",
       "      <th></th>\n",
       "      <th>Order ID</th>\n",
       "      <th>Date</th>\n",
       "      <th>Status</th>\n",
       "      <th>Fulfilment</th>\n",
       "      <th>Sales Channel</th>\n",
       "      <th>ship-service-level</th>\n",
       "      <th>Style</th>\n",
       "      <th>SKU</th>\n",
       "      <th>Category</th>\n",
       "      <th>Size</th>\n",
       "      <th>...</th>\n",
       "      <th>currency</th>\n",
       "      <th>Amount</th>\n",
       "      <th>ship-city</th>\n",
       "      <th>ship-state</th>\n",
       "      <th>ship-postal-code</th>\n",
       "      <th>ship-country</th>\n",
       "      <th>promotion-ids</th>\n",
       "      <th>B2B</th>\n",
       "      <th>fulfilled-by</th>\n",
       "      <th>Unnamed: 22</th>\n",
       "    </tr>\n",
       "    <tr>\n",
       "      <th>index</th>\n",
       "      <th></th>\n",
       "      <th></th>\n",
       "      <th></th>\n",
       "      <th></th>\n",
       "      <th></th>\n",
       "      <th></th>\n",
       "      <th></th>\n",
       "      <th></th>\n",
       "      <th></th>\n",
       "      <th></th>\n",
       "      <th></th>\n",
       "      <th></th>\n",
       "      <th></th>\n",
       "      <th></th>\n",
       "      <th></th>\n",
       "      <th></th>\n",
       "      <th></th>\n",
       "      <th></th>\n",
       "      <th></th>\n",
       "      <th></th>\n",
       "      <th></th>\n",
       "    </tr>\n",
       "  </thead>\n",
       "  <tbody>\n",
       "    <tr>\n",
       "      <th>0</th>\n",
       "      <td>405-8078784-5731545</td>\n",
       "      <td>04-30-22</td>\n",
       "      <td>Cancelled</td>\n",
       "      <td>Merchant</td>\n",
       "      <td>Amazon.in</td>\n",
       "      <td>Standard</td>\n",
       "      <td>SET389</td>\n",
       "      <td>SET389-KR-NP-S</td>\n",
       "      <td>Set</td>\n",
       "      <td>S</td>\n",
       "      <td>...</td>\n",
       "      <td>INR</td>\n",
       "      <td>647.62</td>\n",
       "      <td>MUMBAI</td>\n",
       "      <td>MAHARASHTRA</td>\n",
       "      <td>400081.0</td>\n",
       "      <td>IN</td>\n",
       "      <td>NaN</td>\n",
       "      <td>False</td>\n",
       "      <td>Easy Ship</td>\n",
       "      <td>NaN</td>\n",
       "    </tr>\n",
       "    <tr>\n",
       "      <th>1</th>\n",
       "      <td>171-9198151-1101146</td>\n",
       "      <td>04-30-22</td>\n",
       "      <td>Shipped - Delivered to Buyer</td>\n",
       "      <td>Merchant</td>\n",
       "      <td>Amazon.in</td>\n",
       "      <td>Standard</td>\n",
       "      <td>JNE3781</td>\n",
       "      <td>JNE3781-KR-XXXL</td>\n",
       "      <td>kurta</td>\n",
       "      <td>3XL</td>\n",
       "      <td>...</td>\n",
       "      <td>INR</td>\n",
       "      <td>406.00</td>\n",
       "      <td>BENGALURU</td>\n",
       "      <td>KARNATAKA</td>\n",
       "      <td>560085.0</td>\n",
       "      <td>IN</td>\n",
       "      <td>Amazon PLCC Free-Financing Universal Merchant ...</td>\n",
       "      <td>False</td>\n",
       "      <td>Easy Ship</td>\n",
       "      <td>NaN</td>\n",
       "    </tr>\n",
       "    <tr>\n",
       "      <th>2</th>\n",
       "      <td>404-0687676-7273146</td>\n",
       "      <td>04-30-22</td>\n",
       "      <td>Shipped</td>\n",
       "      <td>Amazon</td>\n",
       "      <td>Amazon.in</td>\n",
       "      <td>Expedited</td>\n",
       "      <td>JNE3371</td>\n",
       "      <td>JNE3371-KR-XL</td>\n",
       "      <td>kurta</td>\n",
       "      <td>XL</td>\n",
       "      <td>...</td>\n",
       "      <td>INR</td>\n",
       "      <td>329.00</td>\n",
       "      <td>NAVI MUMBAI</td>\n",
       "      <td>MAHARASHTRA</td>\n",
       "      <td>410210.0</td>\n",
       "      <td>IN</td>\n",
       "      <td>IN Core Free Shipping 2015/04/08 23-48-5-108</td>\n",
       "      <td>True</td>\n",
       "      <td>NaN</td>\n",
       "      <td>NaN</td>\n",
       "    </tr>\n",
       "    <tr>\n",
       "      <th>3</th>\n",
       "      <td>403-9615377-8133951</td>\n",
       "      <td>04-30-22</td>\n",
       "      <td>Cancelled</td>\n",
       "      <td>Merchant</td>\n",
       "      <td>Amazon.in</td>\n",
       "      <td>Standard</td>\n",
       "      <td>J0341</td>\n",
       "      <td>J0341-DR-L</td>\n",
       "      <td>Western Dress</td>\n",
       "      <td>L</td>\n",
       "      <td>...</td>\n",
       "      <td>INR</td>\n",
       "      <td>753.33</td>\n",
       "      <td>PUDUCHERRY</td>\n",
       "      <td>PUDUCHERRY</td>\n",
       "      <td>605008.0</td>\n",
       "      <td>IN</td>\n",
       "      <td>NaN</td>\n",
       "      <td>False</td>\n",
       "      <td>Easy Ship</td>\n",
       "      <td>NaN</td>\n",
       "    </tr>\n",
       "    <tr>\n",
       "      <th>4</th>\n",
       "      <td>407-1069790-7240320</td>\n",
       "      <td>04-30-22</td>\n",
       "      <td>Shipped</td>\n",
       "      <td>Amazon</td>\n",
       "      <td>Amazon.in</td>\n",
       "      <td>Expedited</td>\n",
       "      <td>JNE3671</td>\n",
       "      <td>JNE3671-TU-XXXL</td>\n",
       "      <td>Top</td>\n",
       "      <td>3XL</td>\n",
       "      <td>...</td>\n",
       "      <td>INR</td>\n",
       "      <td>574.00</td>\n",
       "      <td>CHENNAI</td>\n",
       "      <td>TAMIL NADU</td>\n",
       "      <td>600073.0</td>\n",
       "      <td>IN</td>\n",
       "      <td>NaN</td>\n",
       "      <td>False</td>\n",
       "      <td>NaN</td>\n",
       "      <td>NaN</td>\n",
       "    </tr>\n",
       "  </tbody>\n",
       "</table>\n",
       "<p>5 rows × 23 columns</p>\n",
       "</div>"
      ],
      "text/plain": [
       "                  Order ID      Date                        Status Fulfilment  \\\n",
       "index                                                                           \n",
       "0      405-8078784-5731545  04-30-22                     Cancelled   Merchant   \n",
       "1      171-9198151-1101146  04-30-22  Shipped - Delivered to Buyer   Merchant   \n",
       "2      404-0687676-7273146  04-30-22                       Shipped     Amazon   \n",
       "3      403-9615377-8133951  04-30-22                     Cancelled   Merchant   \n",
       "4      407-1069790-7240320  04-30-22                       Shipped     Amazon   \n",
       "\n",
       "      Sales Channel  ship-service-level    Style              SKU  \\\n",
       "index                                                               \n",
       "0          Amazon.in           Standard   SET389   SET389-KR-NP-S   \n",
       "1          Amazon.in           Standard  JNE3781  JNE3781-KR-XXXL   \n",
       "2          Amazon.in          Expedited  JNE3371    JNE3371-KR-XL   \n",
       "3          Amazon.in           Standard    J0341       J0341-DR-L   \n",
       "4          Amazon.in          Expedited  JNE3671  JNE3671-TU-XXXL   \n",
       "\n",
       "            Category Size  ... currency  Amount    ship-city   ship-state  \\\n",
       "index                      ...                                              \n",
       "0                Set    S  ...      INR  647.62       MUMBAI  MAHARASHTRA   \n",
       "1              kurta  3XL  ...      INR  406.00    BENGALURU    KARNATAKA   \n",
       "2              kurta   XL  ...      INR  329.00  NAVI MUMBAI  MAHARASHTRA   \n",
       "3      Western Dress    L  ...      INR  753.33   PUDUCHERRY   PUDUCHERRY   \n",
       "4                Top  3XL  ...      INR  574.00      CHENNAI   TAMIL NADU   \n",
       "\n",
       "       ship-postal-code ship-country  \\\n",
       "index                                  \n",
       "0              400081.0           IN   \n",
       "1              560085.0           IN   \n",
       "2              410210.0           IN   \n",
       "3              605008.0           IN   \n",
       "4              600073.0           IN   \n",
       "\n",
       "                                           promotion-ids    B2B fulfilled-by  \\\n",
       "index                                                                          \n",
       "0                                                    NaN  False    Easy Ship   \n",
       "1      Amazon PLCC Free-Financing Universal Merchant ...  False    Easy Ship   \n",
       "2           IN Core Free Shipping 2015/04/08 23-48-5-108   True          NaN   \n",
       "3                                                    NaN  False    Easy Ship   \n",
       "4                                                    NaN  False          NaN   \n",
       "\n",
       "      Unnamed: 22  \n",
       "index              \n",
       "0             NaN  \n",
       "1             NaN  \n",
       "2             NaN  \n",
       "3             NaN  \n",
       "4             NaN  \n",
       "\n",
       "[5 rows x 23 columns]"
      ]
     },
     "execution_count": 54,
     "metadata": {},
     "output_type": "execute_result"
    }
   ],
   "source": [
    "# seeing the data \n",
    "df = pd.read_csv('./data/Amazon_Sale_Report.csv', index_col=0)\n",
    "df.head()\n"
   ]
  },
  {
   "cell_type": "markdown",
   "metadata": {},
   "source": [
    "## understand the data :"
   ]
  },
  {
   "cell_type": "code",
   "execution_count": 55,
   "metadata": {},
   "outputs": [
    {
     "data": {
      "text/html": [
       "<div>\n",
       "<style scoped>\n",
       "    .dataframe tbody tr th:only-of-type {\n",
       "        vertical-align: middle;\n",
       "    }\n",
       "\n",
       "    .dataframe tbody tr th {\n",
       "        vertical-align: top;\n",
       "    }\n",
       "\n",
       "    .dataframe thead th {\n",
       "        text-align: right;\n",
       "    }\n",
       "</style>\n",
       "<table border=\"1\" class=\"dataframe\">\n",
       "  <thead>\n",
       "    <tr style=\"text-align: right;\">\n",
       "      <th></th>\n",
       "      <th>Order ID</th>\n",
       "      <th>Date</th>\n",
       "      <th>Status</th>\n",
       "      <th>Fulfilment</th>\n",
       "      <th>Sales Channel</th>\n",
       "      <th>ship-service-level</th>\n",
       "      <th>Style</th>\n",
       "      <th>SKU</th>\n",
       "      <th>Category</th>\n",
       "      <th>Size</th>\n",
       "      <th>...</th>\n",
       "      <th>currency</th>\n",
       "      <th>Amount</th>\n",
       "      <th>ship-city</th>\n",
       "      <th>ship-state</th>\n",
       "      <th>ship-postal-code</th>\n",
       "      <th>ship-country</th>\n",
       "      <th>promotion-ids</th>\n",
       "      <th>B2B</th>\n",
       "      <th>fulfilled-by</th>\n",
       "      <th>Unnamed: 22</th>\n",
       "    </tr>\n",
       "    <tr>\n",
       "      <th>index</th>\n",
       "      <th></th>\n",
       "      <th></th>\n",
       "      <th></th>\n",
       "      <th></th>\n",
       "      <th></th>\n",
       "      <th></th>\n",
       "      <th></th>\n",
       "      <th></th>\n",
       "      <th></th>\n",
       "      <th></th>\n",
       "      <th></th>\n",
       "      <th></th>\n",
       "      <th></th>\n",
       "      <th></th>\n",
       "      <th></th>\n",
       "      <th></th>\n",
       "      <th></th>\n",
       "      <th></th>\n",
       "      <th></th>\n",
       "      <th></th>\n",
       "      <th></th>\n",
       "    </tr>\n",
       "  </thead>\n",
       "  <tbody>\n",
       "    <tr>\n",
       "      <th>0</th>\n",
       "      <td>405-8078784-5731545</td>\n",
       "      <td>04-30-22</td>\n",
       "      <td>Cancelled</td>\n",
       "      <td>Merchant</td>\n",
       "      <td>Amazon.in</td>\n",
       "      <td>Standard</td>\n",
       "      <td>SET389</td>\n",
       "      <td>SET389-KR-NP-S</td>\n",
       "      <td>Set</td>\n",
       "      <td>S</td>\n",
       "      <td>...</td>\n",
       "      <td>INR</td>\n",
       "      <td>647.62</td>\n",
       "      <td>MUMBAI</td>\n",
       "      <td>MAHARASHTRA</td>\n",
       "      <td>400081.0</td>\n",
       "      <td>IN</td>\n",
       "      <td>NaN</td>\n",
       "      <td>False</td>\n",
       "      <td>Easy Ship</td>\n",
       "      <td>NaN</td>\n",
       "    </tr>\n",
       "    <tr>\n",
       "      <th>1</th>\n",
       "      <td>171-9198151-1101146</td>\n",
       "      <td>04-30-22</td>\n",
       "      <td>Shipped - Delivered to Buyer</td>\n",
       "      <td>Merchant</td>\n",
       "      <td>Amazon.in</td>\n",
       "      <td>Standard</td>\n",
       "      <td>JNE3781</td>\n",
       "      <td>JNE3781-KR-XXXL</td>\n",
       "      <td>kurta</td>\n",
       "      <td>3XL</td>\n",
       "      <td>...</td>\n",
       "      <td>INR</td>\n",
       "      <td>406.00</td>\n",
       "      <td>BENGALURU</td>\n",
       "      <td>KARNATAKA</td>\n",
       "      <td>560085.0</td>\n",
       "      <td>IN</td>\n",
       "      <td>Amazon PLCC Free-Financing Universal Merchant ...</td>\n",
       "      <td>False</td>\n",
       "      <td>Easy Ship</td>\n",
       "      <td>NaN</td>\n",
       "    </tr>\n",
       "    <tr>\n",
       "      <th>2</th>\n",
       "      <td>404-0687676-7273146</td>\n",
       "      <td>04-30-22</td>\n",
       "      <td>Shipped</td>\n",
       "      <td>Amazon</td>\n",
       "      <td>Amazon.in</td>\n",
       "      <td>Expedited</td>\n",
       "      <td>JNE3371</td>\n",
       "      <td>JNE3371-KR-XL</td>\n",
       "      <td>kurta</td>\n",
       "      <td>XL</td>\n",
       "      <td>...</td>\n",
       "      <td>INR</td>\n",
       "      <td>329.00</td>\n",
       "      <td>NAVI MUMBAI</td>\n",
       "      <td>MAHARASHTRA</td>\n",
       "      <td>410210.0</td>\n",
       "      <td>IN</td>\n",
       "      <td>IN Core Free Shipping 2015/04/08 23-48-5-108</td>\n",
       "      <td>True</td>\n",
       "      <td>NaN</td>\n",
       "      <td>NaN</td>\n",
       "    </tr>\n",
       "    <tr>\n",
       "      <th>3</th>\n",
       "      <td>403-9615377-8133951</td>\n",
       "      <td>04-30-22</td>\n",
       "      <td>Cancelled</td>\n",
       "      <td>Merchant</td>\n",
       "      <td>Amazon.in</td>\n",
       "      <td>Standard</td>\n",
       "      <td>J0341</td>\n",
       "      <td>J0341-DR-L</td>\n",
       "      <td>Western Dress</td>\n",
       "      <td>L</td>\n",
       "      <td>...</td>\n",
       "      <td>INR</td>\n",
       "      <td>753.33</td>\n",
       "      <td>PUDUCHERRY</td>\n",
       "      <td>PUDUCHERRY</td>\n",
       "      <td>605008.0</td>\n",
       "      <td>IN</td>\n",
       "      <td>NaN</td>\n",
       "      <td>False</td>\n",
       "      <td>Easy Ship</td>\n",
       "      <td>NaN</td>\n",
       "    </tr>\n",
       "    <tr>\n",
       "      <th>4</th>\n",
       "      <td>407-1069790-7240320</td>\n",
       "      <td>04-30-22</td>\n",
       "      <td>Shipped</td>\n",
       "      <td>Amazon</td>\n",
       "      <td>Amazon.in</td>\n",
       "      <td>Expedited</td>\n",
       "      <td>JNE3671</td>\n",
       "      <td>JNE3671-TU-XXXL</td>\n",
       "      <td>Top</td>\n",
       "      <td>3XL</td>\n",
       "      <td>...</td>\n",
       "      <td>INR</td>\n",
       "      <td>574.00</td>\n",
       "      <td>CHENNAI</td>\n",
       "      <td>TAMIL NADU</td>\n",
       "      <td>600073.0</td>\n",
       "      <td>IN</td>\n",
       "      <td>NaN</td>\n",
       "      <td>False</td>\n",
       "      <td>NaN</td>\n",
       "      <td>NaN</td>\n",
       "    </tr>\n",
       "  </tbody>\n",
       "</table>\n",
       "<p>5 rows × 23 columns</p>\n",
       "</div>"
      ],
      "text/plain": [
       "                  Order ID      Date                        Status Fulfilment  \\\n",
       "index                                                                           \n",
       "0      405-8078784-5731545  04-30-22                     Cancelled   Merchant   \n",
       "1      171-9198151-1101146  04-30-22  Shipped - Delivered to Buyer   Merchant   \n",
       "2      404-0687676-7273146  04-30-22                       Shipped     Amazon   \n",
       "3      403-9615377-8133951  04-30-22                     Cancelled   Merchant   \n",
       "4      407-1069790-7240320  04-30-22                       Shipped     Amazon   \n",
       "\n",
       "      Sales Channel  ship-service-level    Style              SKU  \\\n",
       "index                                                               \n",
       "0          Amazon.in           Standard   SET389   SET389-KR-NP-S   \n",
       "1          Amazon.in           Standard  JNE3781  JNE3781-KR-XXXL   \n",
       "2          Amazon.in          Expedited  JNE3371    JNE3371-KR-XL   \n",
       "3          Amazon.in           Standard    J0341       J0341-DR-L   \n",
       "4          Amazon.in          Expedited  JNE3671  JNE3671-TU-XXXL   \n",
       "\n",
       "            Category Size  ... currency  Amount    ship-city   ship-state  \\\n",
       "index                      ...                                              \n",
       "0                Set    S  ...      INR  647.62       MUMBAI  MAHARASHTRA   \n",
       "1              kurta  3XL  ...      INR  406.00    BENGALURU    KARNATAKA   \n",
       "2              kurta   XL  ...      INR  329.00  NAVI MUMBAI  MAHARASHTRA   \n",
       "3      Western Dress    L  ...      INR  753.33   PUDUCHERRY   PUDUCHERRY   \n",
       "4                Top  3XL  ...      INR  574.00      CHENNAI   TAMIL NADU   \n",
       "\n",
       "       ship-postal-code ship-country  \\\n",
       "index                                  \n",
       "0              400081.0           IN   \n",
       "1              560085.0           IN   \n",
       "2              410210.0           IN   \n",
       "3              605008.0           IN   \n",
       "4              600073.0           IN   \n",
       "\n",
       "                                           promotion-ids    B2B fulfilled-by  \\\n",
       "index                                                                          \n",
       "0                                                    NaN  False    Easy Ship   \n",
       "1      Amazon PLCC Free-Financing Universal Merchant ...  False    Easy Ship   \n",
       "2           IN Core Free Shipping 2015/04/08 23-48-5-108   True          NaN   \n",
       "3                                                    NaN  False    Easy Ship   \n",
       "4                                                    NaN  False          NaN   \n",
       "\n",
       "      Unnamed: 22  \n",
       "index              \n",
       "0             NaN  \n",
       "1             NaN  \n",
       "2             NaN  \n",
       "3             NaN  \n",
       "4             NaN  \n",
       "\n",
       "[5 rows x 23 columns]"
      ]
     },
     "execution_count": 55,
     "metadata": {},
     "output_type": "execute_result"
    }
   ],
   "source": [
    "df.head()"
   ]
  },
  {
   "cell_type": "code",
   "execution_count": 56,
   "metadata": {},
   "outputs": [
    {
     "name": "stdout",
     "output_type": "stream",
     "text": [
      "<class 'pandas.core.frame.DataFrame'>\n",
      "Index: 128975 entries, 0 to 128974\n",
      "Data columns (total 23 columns):\n",
      " #   Column              Non-Null Count   Dtype  \n",
      "---  ------              --------------   -----  \n",
      " 0   Order ID            128975 non-null  object \n",
      " 1   Date                128975 non-null  object \n",
      " 2   Status              128975 non-null  object \n",
      " 3   Fulfilment          128975 non-null  object \n",
      " 4   Sales Channel       128975 non-null  object \n",
      " 5   ship-service-level  128975 non-null  object \n",
      " 6   Style               128975 non-null  object \n",
      " 7   SKU                 128975 non-null  object \n",
      " 8   Category            128975 non-null  object \n",
      " 9   Size                128975 non-null  object \n",
      " 10  ASIN                128975 non-null  object \n",
      " 11  Courier Status      122103 non-null  object \n",
      " 12  Qty                 128975 non-null  int64  \n",
      " 13  currency            121180 non-null  object \n",
      " 14  Amount              121180 non-null  float64\n",
      " 15  ship-city           128942 non-null  object \n",
      " 16  ship-state          128942 non-null  object \n",
      " 17  ship-postal-code    128942 non-null  float64\n",
      " 18  ship-country        128942 non-null  object \n",
      " 19  promotion-ids       79822 non-null   object \n",
      " 20  B2B                 128975 non-null  bool   \n",
      " 21  fulfilled-by        39277 non-null   object \n",
      " 22  Unnamed: 22         79925 non-null   object \n",
      "dtypes: bool(1), float64(2), int64(1), object(19)\n",
      "memory usage: 22.8+ MB\n"
     ]
    }
   ],
   "source": [
    "df.info()"
   ]
  },
  {
   "cell_type": "code",
   "execution_count": 57,
   "metadata": {},
   "outputs": [
    {
     "data": {
      "text/html": [
       "<div>\n",
       "<style scoped>\n",
       "    .dataframe tbody tr th:only-of-type {\n",
       "        vertical-align: middle;\n",
       "    }\n",
       "\n",
       "    .dataframe tbody tr th {\n",
       "        vertical-align: top;\n",
       "    }\n",
       "\n",
       "    .dataframe thead th {\n",
       "        text-align: right;\n",
       "    }\n",
       "</style>\n",
       "<table border=\"1\" class=\"dataframe\">\n",
       "  <thead>\n",
       "    <tr style=\"text-align: right;\">\n",
       "      <th></th>\n",
       "      <th>Qty</th>\n",
       "      <th>Amount</th>\n",
       "      <th>ship-postal-code</th>\n",
       "    </tr>\n",
       "  </thead>\n",
       "  <tbody>\n",
       "    <tr>\n",
       "      <th>count</th>\n",
       "      <td>128975.00</td>\n",
       "      <td>121180.00</td>\n",
       "      <td>128942.00</td>\n",
       "    </tr>\n",
       "    <tr>\n",
       "      <th>mean</th>\n",
       "      <td>0.90</td>\n",
       "      <td>648.56</td>\n",
       "      <td>463966.24</td>\n",
       "    </tr>\n",
       "    <tr>\n",
       "      <th>std</th>\n",
       "      <td>0.31</td>\n",
       "      <td>281.21</td>\n",
       "      <td>191476.76</td>\n",
       "    </tr>\n",
       "    <tr>\n",
       "      <th>min</th>\n",
       "      <td>0.00</td>\n",
       "      <td>0.00</td>\n",
       "      <td>110001.00</td>\n",
       "    </tr>\n",
       "    <tr>\n",
       "      <th>25%</th>\n",
       "      <td>1.00</td>\n",
       "      <td>449.00</td>\n",
       "      <td>382421.00</td>\n",
       "    </tr>\n",
       "    <tr>\n",
       "      <th>50%</th>\n",
       "      <td>1.00</td>\n",
       "      <td>605.00</td>\n",
       "      <td>500033.00</td>\n",
       "    </tr>\n",
       "    <tr>\n",
       "      <th>75%</th>\n",
       "      <td>1.00</td>\n",
       "      <td>788.00</td>\n",
       "      <td>600024.00</td>\n",
       "    </tr>\n",
       "    <tr>\n",
       "      <th>max</th>\n",
       "      <td>15.00</td>\n",
       "      <td>5584.00</td>\n",
       "      <td>989898.00</td>\n",
       "    </tr>\n",
       "  </tbody>\n",
       "</table>\n",
       "</div>"
      ],
      "text/plain": [
       "             Qty     Amount  ship-postal-code\n",
       "count  128975.00  121180.00         128942.00\n",
       "mean        0.90     648.56         463966.24\n",
       "std         0.31     281.21         191476.76\n",
       "min         0.00       0.00         110001.00\n",
       "25%         1.00     449.00         382421.00\n",
       "50%         1.00     605.00         500033.00\n",
       "75%         1.00     788.00         600024.00\n",
       "max        15.00    5584.00         989898.00"
      ]
     },
     "execution_count": 57,
     "metadata": {},
     "output_type": "execute_result"
    }
   ],
   "source": [
    "df.describe().round(2)"
   ]
  },
  {
   "cell_type": "code",
   "execution_count": 58,
   "metadata": {},
   "outputs": [
    {
     "data": {
      "text/html": [
       "<div>\n",
       "<style scoped>\n",
       "    .dataframe tbody tr th:only-of-type {\n",
       "        vertical-align: middle;\n",
       "    }\n",
       "\n",
       "    .dataframe tbody tr th {\n",
       "        vertical-align: top;\n",
       "    }\n",
       "\n",
       "    .dataframe thead th {\n",
       "        text-align: right;\n",
       "    }\n",
       "</style>\n",
       "<table border=\"1\" class=\"dataframe\">\n",
       "  <thead>\n",
       "    <tr style=\"text-align: right;\">\n",
       "      <th></th>\n",
       "      <th>Order ID</th>\n",
       "      <th>Date</th>\n",
       "      <th>Status</th>\n",
       "      <th>Fulfilment</th>\n",
       "      <th>Sales Channel</th>\n",
       "      <th>ship-service-level</th>\n",
       "      <th>Style</th>\n",
       "      <th>SKU</th>\n",
       "      <th>Category</th>\n",
       "      <th>Size</th>\n",
       "      <th>ASIN</th>\n",
       "      <th>Courier Status</th>\n",
       "      <th>currency</th>\n",
       "      <th>ship-city</th>\n",
       "      <th>ship-state</th>\n",
       "      <th>ship-country</th>\n",
       "      <th>promotion-ids</th>\n",
       "      <th>fulfilled-by</th>\n",
       "      <th>Unnamed: 22</th>\n",
       "    </tr>\n",
       "  </thead>\n",
       "  <tbody>\n",
       "    <tr>\n",
       "      <th>count</th>\n",
       "      <td>128975</td>\n",
       "      <td>128975</td>\n",
       "      <td>128975</td>\n",
       "      <td>128975</td>\n",
       "      <td>128975</td>\n",
       "      <td>128975</td>\n",
       "      <td>128975</td>\n",
       "      <td>128975</td>\n",
       "      <td>128975</td>\n",
       "      <td>128975</td>\n",
       "      <td>128975</td>\n",
       "      <td>122103</td>\n",
       "      <td>121180</td>\n",
       "      <td>128942</td>\n",
       "      <td>128942</td>\n",
       "      <td>128942</td>\n",
       "      <td>79822</td>\n",
       "      <td>39277</td>\n",
       "      <td>79925</td>\n",
       "    </tr>\n",
       "    <tr>\n",
       "      <th>unique</th>\n",
       "      <td>120378</td>\n",
       "      <td>91</td>\n",
       "      <td>13</td>\n",
       "      <td>2</td>\n",
       "      <td>2</td>\n",
       "      <td>2</td>\n",
       "      <td>1377</td>\n",
       "      <td>7195</td>\n",
       "      <td>9</td>\n",
       "      <td>11</td>\n",
       "      <td>7190</td>\n",
       "      <td>3</td>\n",
       "      <td>1</td>\n",
       "      <td>8955</td>\n",
       "      <td>69</td>\n",
       "      <td>1</td>\n",
       "      <td>5787</td>\n",
       "      <td>1</td>\n",
       "      <td>1</td>\n",
       "    </tr>\n",
       "    <tr>\n",
       "      <th>top</th>\n",
       "      <td>171-5057375-2831560</td>\n",
       "      <td>05-03-22</td>\n",
       "      <td>Shipped</td>\n",
       "      <td>Amazon</td>\n",
       "      <td>Amazon.in</td>\n",
       "      <td>Expedited</td>\n",
       "      <td>JNE3797</td>\n",
       "      <td>JNE3797-KR-L</td>\n",
       "      <td>Set</td>\n",
       "      <td>M</td>\n",
       "      <td>B09SDXFFQ1</td>\n",
       "      <td>Shipped</td>\n",
       "      <td>INR</td>\n",
       "      <td>BENGALURU</td>\n",
       "      <td>MAHARASHTRA</td>\n",
       "      <td>IN</td>\n",
       "      <td>IN Core Free Shipping 2015/04/08 23-48-5-108</td>\n",
       "      <td>Easy Ship</td>\n",
       "      <td>False</td>\n",
       "    </tr>\n",
       "    <tr>\n",
       "      <th>freq</th>\n",
       "      <td>12</td>\n",
       "      <td>2085</td>\n",
       "      <td>77804</td>\n",
       "      <td>89698</td>\n",
       "      <td>128851</td>\n",
       "      <td>88615</td>\n",
       "      <td>4224</td>\n",
       "      <td>773</td>\n",
       "      <td>50284</td>\n",
       "      <td>22711</td>\n",
       "      <td>773</td>\n",
       "      <td>109487</td>\n",
       "      <td>121180</td>\n",
       "      <td>11217</td>\n",
       "      <td>22260</td>\n",
       "      <td>128942</td>\n",
       "      <td>46100</td>\n",
       "      <td>39277</td>\n",
       "      <td>79925</td>\n",
       "    </tr>\n",
       "  </tbody>\n",
       "</table>\n",
       "</div>"
      ],
      "text/plain": [
       "                   Order ID      Date   Status Fulfilment Sales Channel   \\\n",
       "count                128975    128975   128975     128975         128975   \n",
       "unique               120378        91       13          2              2   \n",
       "top     171-5057375-2831560  05-03-22  Shipped     Amazon      Amazon.in   \n",
       "freq                     12      2085    77804      89698         128851   \n",
       "\n",
       "       ship-service-level    Style           SKU Category    Size        ASIN  \\\n",
       "count              128975   128975        128975   128975  128975      128975   \n",
       "unique                  2     1377          7195        9      11        7190   \n",
       "top             Expedited  JNE3797  JNE3797-KR-L      Set       M  B09SDXFFQ1   \n",
       "freq                88615     4224           773    50284   22711         773   \n",
       "\n",
       "       Courier Status currency  ship-city   ship-state ship-country  \\\n",
       "count          122103   121180     128942       128942       128942   \n",
       "unique              3        1       8955           69            1   \n",
       "top           Shipped      INR  BENGALURU  MAHARASHTRA           IN   \n",
       "freq           109487   121180      11217        22260       128942   \n",
       "\n",
       "                                       promotion-ids fulfilled-by Unnamed: 22  \n",
       "count                                          79822        39277       79925  \n",
       "unique                                          5787            1           1  \n",
       "top     IN Core Free Shipping 2015/04/08 23-48-5-108    Easy Ship       False  \n",
       "freq                                           46100        39277       79925  "
      ]
     },
     "execution_count": 58,
     "metadata": {},
     "output_type": "execute_result"
    }
   ],
   "source": [
    "df.describe(include='O')"
   ]
  },
  {
   "cell_type": "code",
   "execution_count": 59,
   "metadata": {},
   "outputs": [
    {
     "data": {
      "text/plain": [
       "Order ID               0.000\n",
       "Date                   0.000\n",
       "Status                 0.000\n",
       "Fulfilment             0.000\n",
       "Sales Channel          0.000\n",
       "ship-service-level     0.000\n",
       "Style                  0.000\n",
       "SKU                    0.000\n",
       "Category               0.000\n",
       "Size                   0.000\n",
       "ASIN                   0.000\n",
       "Courier Status         5.328\n",
       "Qty                    0.000\n",
       "currency               6.044\n",
       "Amount                 6.044\n",
       "ship-city              0.026\n",
       "ship-state             0.026\n",
       "ship-postal-code       0.026\n",
       "ship-country           0.026\n",
       "promotion-ids         38.110\n",
       "B2B                    0.000\n",
       "fulfilled-by          69.547\n",
       "Unnamed: 22           38.031\n",
       "dtype: float64"
      ]
     },
     "execution_count": 59,
     "metadata": {},
     "output_type": "execute_result"
    }
   ],
   "source": [
    "round(df.isnull().mean()*100,3)"
   ]
  },
  {
   "cell_type": "markdown",
   "metadata": {},
   "source": [
    "# DATA CLEANING :-"
   ]
  },
  {
   "cell_type": "markdown",
   "metadata": {},
   "source": [
    "## AFTER REVEWING DB COLUMNS I FOUND THAT :-\n",
    "\n",
    "\n",
    "#### 01 - the columns names needs to cleand to be lower case and to remove unwanted spaces. \n",
    "#### 02 - there is 33 out of 128975 rows where the address is null so i will drop it \n",
    "#### 03 - the unnamed:_22 and fulfilled_by did not give any usefull info so i will drop them.\n",
    "#### 04 - the date column type needs to change into ===> datetime64\n",
    "#### 05 - the ship-postal-code type needs to change into ===> int\n",
    "#### 06 - the 'qty' column need to be rename into ==> 'Quantity'\n",
    "#### 07 - Some states and cities have the same meaning but are written in different styles\n",
    "#### 08 - the currency should be INR since this data from india and also i did not found any other currency\n",
    "#### 09 - Missing values in the promotion-ids column will be replaced with \"No Promotion\"\n",
    "#### 10 - Fill \"Courier Status\" with \"Cancelled\" when Status is \"Cancelled\"\n",
    "#### 11 - handel the Null Amount Values based on style's median unit price and quantity"
   ]
  },
  {
   "cell_type": "code",
   "execution_count": 60,
   "metadata": {},
   "outputs": [
    {
     "data": {
      "text/plain": [
       "Index(['Order ID', 'Date', 'Status', 'Fulfilment', 'Sales Channel ',\n",
       "       'ship-service-level', 'Style', 'SKU', 'Category', 'Size', 'ASIN',\n",
       "       'Courier Status', 'Qty', 'currency', 'Amount', 'ship-city',\n",
       "       'ship-state', 'ship-postal-code', 'ship-country', 'promotion-ids',\n",
       "       'B2B', 'fulfilled-by', 'Unnamed: 22'],\n",
       "      dtype='object')"
      ]
     },
     "execution_count": 60,
     "metadata": {},
     "output_type": "execute_result"
    }
   ],
   "source": [
    "df.columns"
   ]
  },
  {
   "cell_type": "code",
   "execution_count": 61,
   "metadata": {},
   "outputs": [
    {
     "data": {
      "text/plain": [
       "Index(['order_id', 'date', 'status', 'fulfilment', 'sales_channel',\n",
       "       'ship_service_level', 'style', 'sku', 'category', 'size', 'asin',\n",
       "       'courier_status', 'qty', 'currency', 'amount', 'ship_city',\n",
       "       'ship_state', 'ship_postal_code', 'ship_country', 'promotion_ids',\n",
       "       'b2b', 'fulfilled_by', 'unnamed:_22'],\n",
       "      dtype='object')"
      ]
     },
     "execution_count": 61,
     "metadata": {},
     "output_type": "execute_result"
    }
   ],
   "source": [
    "# 01 - the columns names needs to cleand to be lower case and to remove unwanted spaces. \n",
    "df.columns = df.columns.str.strip()\n",
    "df.columns = df.columns.str.lower().str.replace(' ', '_')\n",
    "df.columns = df.columns.str.lower().str.replace('-', '_')\n",
    "\n",
    "df.columns"
   ]
  },
  {
   "cell_type": "code",
   "execution_count": 62,
   "metadata": {},
   "outputs": [
    {
     "data": {
      "text/plain": [
       "Index(['order_id', 'date', 'status', 'fulfilment', 'sales_channel',\n",
       "       'ship_service_level', 'style', 'sku', 'category', 'size', 'asin',\n",
       "       'courier_status', 'currency', 'ship_city', 'ship_state', 'ship_country',\n",
       "       'promotion_ids', 'fulfilled_by', 'unnamed:_22'],\n",
       "      dtype='object')"
      ]
     },
     "execution_count": 62,
     "metadata": {},
     "output_type": "execute_result"
    }
   ],
   "source": [
    "# THIS IS THE DATE CATEGORICAL COLUMN\n",
    "cat_cols = df.select_dtypes(include= 'object').columns\n",
    "cat_cols"
   ]
  },
  {
   "cell_type": "code",
   "execution_count": 63,
   "metadata": {},
   "outputs": [
    {
     "name": "stdout",
     "output_type": "stream",
     "text": [
      "order_id\n",
      "120378\n",
      "['405-8078784-5731545' '171-9198151-1101146' '404-0687676-7273146' ...\n",
      " '407-9547469-3152358' '402-6184140-0545956' '408-7436540-8728312']\n",
      "\n",
      " **************************************************************************************************** \n",
      "\n",
      "date\n",
      "91\n",
      "['04-30-22' '04-29-22' '04-28-22' '04-27-22' '04-26-22' '04-25-22'\n",
      " '04-24-22' '04-23-22' '04-22-22' '04-21-22' '04-20-22' '04-19-22'\n",
      " '04-18-22' '04-17-22' '04-16-22' '04-15-22' '04-14-22' '04-13-22'\n",
      " '04-12-22' '04-11-22' '04-10-22' '04-09-22' '04-08-22' '04-07-22'\n",
      " '04-06-22' '04-05-22' '04-04-22' '04-03-22' '04-02-22' '04-01-22'\n",
      " '03-31-22' '05-31-22' '05-30-22' '05-29-22' '05-28-22' '05-27-22'\n",
      " '05-26-22' '05-25-22' '05-24-22' '05-23-22' '05-22-22' '05-21-22'\n",
      " '05-20-22' '05-19-22' '05-18-22' '05-17-22' '05-16-22' '05-15-22'\n",
      " '05-14-22' '05-13-22' '05-12-22' '05-11-22' '05-10-22' '05-09-22'\n",
      " '05-08-22' '05-07-22' '05-06-22' '05-05-22' '05-04-22' '05-03-22'\n",
      " '05-02-22' '05-01-22' '06-29-22' '06-28-22' '06-27-22' '06-26-22'\n",
      " '06-25-22' '06-24-22' '06-23-22' '06-22-22' '06-21-22' '06-20-22'\n",
      " '06-19-22' '06-18-22' '06-17-22' '06-16-22' '06-15-22' '06-14-22'\n",
      " '06-13-22' '06-12-22' '06-11-22' '06-10-22' '06-09-22' '06-08-22'\n",
      " '06-07-22' '06-06-22' '06-05-22' '06-04-22' '06-03-22' '06-02-22'\n",
      " '06-01-22']\n",
      "\n",
      " **************************************************************************************************** \n",
      "\n",
      "status\n",
      "13\n",
      "['Cancelled' 'Shipped - Delivered to Buyer' 'Shipped'\n",
      " 'Shipped - Returned to Seller' 'Shipped - Rejected by Buyer'\n",
      " 'Shipped - Lost in Transit' 'Shipped - Out for Delivery'\n",
      " 'Shipped - Returning to Seller' 'Shipped - Picked Up' 'Pending'\n",
      " 'Pending - Waiting for Pick Up' 'Shipped - Damaged' 'Shipping']\n",
      "\n",
      " **************************************************************************************************** \n",
      "\n",
      "fulfilment\n",
      "2\n",
      "['Merchant' 'Amazon']\n",
      "\n",
      " **************************************************************************************************** \n",
      "\n",
      "sales_channel\n",
      "2\n",
      "['Amazon.in' 'Non-Amazon']\n",
      "\n",
      " **************************************************************************************************** \n",
      "\n",
      "ship_service_level\n",
      "2\n",
      "['Standard' 'Expedited']\n",
      "\n",
      " **************************************************************************************************** \n",
      "\n",
      "style\n",
      "1377\n",
      "['SET389' 'JNE3781' 'JNE3371' ... 'SET066' 'J0286' 'SET045']\n",
      "\n",
      " **************************************************************************************************** \n",
      "\n",
      "sku\n",
      "7195\n",
      "['SET389-KR-NP-S' 'JNE3781-KR-XXXL' 'JNE3371-KR-XL' ... 'JNE3370-KR-S'\n",
      " 'JNE3678-TU-XXL' 'SET045-KR-NP-M']\n",
      "\n",
      " **************************************************************************************************** \n",
      "\n",
      "category\n",
      "9\n",
      "['Set' 'kurta' 'Western Dress' 'Top' 'Ethnic Dress' 'Bottom' 'Saree'\n",
      " 'Blouse' 'Dupatta']\n",
      "\n",
      " **************************************************************************************************** \n",
      "\n",
      "size\n",
      "11\n",
      "['S' '3XL' 'XL' 'L' 'XXL' 'XS' '6XL' 'M' '4XL' '5XL' 'Free']\n",
      "\n",
      " **************************************************************************************************** \n",
      "\n",
      "asin\n",
      "7190\n",
      "['B09KXVBD7Z' 'B09K3WFS32' 'B07WV4JV4D' ... 'B081X6MVKK' 'B0943HSR64'\n",
      " 'B07N81TFNY']\n",
      "\n",
      " **************************************************************************************************** \n",
      "\n",
      "courier_status\n",
      "3\n",
      "[nan 'Shipped' 'Cancelled' 'Unshipped']\n",
      "\n",
      " **************************************************************************************************** \n",
      "\n",
      "currency\n",
      "1\n",
      "['INR' nan]\n",
      "\n",
      " **************************************************************************************************** \n",
      "\n",
      "ship_city\n",
      "8955\n",
      "['MUMBAI' 'BENGALURU' 'NAVI MUMBAI' ... 'GULABPURA, Distt BHILWARA'\n",
      " 'Prayagraj (ALLAHABAD)' 'Halol']\n",
      "\n",
      " **************************************************************************************************** \n",
      "\n",
      "ship_state\n",
      "69\n",
      "['MAHARASHTRA' 'KARNATAKA' 'PUDUCHERRY' 'TAMIL NADU' 'UTTAR PRADESH'\n",
      " 'CHANDIGARH' 'TELANGANA' 'ANDHRA PRADESH' 'RAJASTHAN' 'DELHI' 'HARYANA'\n",
      " 'ASSAM' 'JHARKHAND' 'CHHATTISGARH' 'ODISHA' 'KERALA' 'MADHYA PRADESH'\n",
      " 'WEST BENGAL' 'NAGALAND' 'Gujarat' 'UTTARAKHAND' 'BIHAR'\n",
      " 'JAMMU & KASHMIR' 'PUNJAB' 'HIMACHAL PRADESH' 'ARUNACHAL PRADESH'\n",
      " 'MANIPUR' 'Goa' 'MEGHALAYA' 'GOA' 'TRIPURA' 'LADAKH' 'DADRA AND NAGAR'\n",
      " 'SIKKIM' 'Delhi' nan 'ANDAMAN & NICOBAR ' 'Punjab' 'Rajshthan' 'Manipur'\n",
      " 'rajasthan' 'Odisha' 'NL' 'Bihar' 'MIZORAM' 'punjab' 'New Delhi'\n",
      " 'Rajasthan' 'Punjab/Mohali/Zirakpur' 'Puducherry' 'delhi' 'RJ'\n",
      " 'Chandigarh' 'orissa' 'LAKSHADWEEP' 'goa' 'PB' 'APO' 'Arunachal Pradesh'\n",
      " 'AR' 'Pondicherry' 'Sikkim' 'Arunachal pradesh' 'Nagaland' 'bihar'\n",
      " 'Mizoram' 'rajsthan' 'Orissa' 'Rajsthan' 'Meghalaya']\n",
      "\n",
      " **************************************************************************************************** \n",
      "\n",
      "ship_country\n",
      "1\n",
      "['IN' nan]\n",
      "\n",
      " **************************************************************************************************** \n",
      "\n",
      "promotion_ids\n",
      "5787\n",
      "[nan\n",
      " 'Amazon PLCC Free-Financing Universal Merchant AAT-WNKTBO3K27EJC,Amazon PLCC Free-Financing Universal Merchant AAT-QX3UCCJESKPA2,Amazon PLCC Free-Financing Universal Merchant AAT-5QQ7BIYYQEDN2,Amazon PLCC Free-Financing Universal Merchant AAT-DSJ2QRXXWXVMQ,Amazon PLCC Free-Financing Universal Merchant AAT-CXJHMC2YJUK76,Amazon PLCC Free-Financing Universal Merchant AAT-CC4FAVTYR4X7C,Amazon PLCC Free-Financing Universal Merchant AAT-XXRCW6NZEPZI4,Amazon PLCC Free-Financing Universal Merchant AAT-CXNSLNBROFDW4,Amazon PLCC Free-Financing Universal Merchant AAT-R7GXNZWISTRFA,Amazon PLCC Free-Financing Universal Merchant AAT-WSJLDN3X7KEMO,Amazon PLCC Free-Financing Universal Merchant AAT-VL6FGQVGQVXUS,Amazon PLCC Free-Financing Universal Merchant AAT-EOKPWFWYW7Y6I,Amazon PLCC Free-Financing Universal Merchant AAT-ZYL5UPUNW6T62,Amazon PLCC Free-Financing Universal Merchant AAT-XVPICCHRWDCAI,Amazon PLCC Free-Financing Universal Merchant AAT-ETXQ3XXWMRXBG,Amazon PLCC Free-Financing Universal Merchant AAT-7X3XCTYG64VBE,Amazon PLCC Free-Financing Universal Merchant AAT-7CHGD3WTS3MHM,Amazon PLCC Free-Financing Universal Merchant AAT-26ZDKNME27X42,Amazon PLCC Free-Financing Universal Merchant AAT-4ZF5KN6E4LJK4,Amazon PLCC Free-Financing Universal Merchant AAT-7RCXIKUAX7DDY,Amazon PLCC Free-Financing Universal Merchant AAT-BRSZZ45H6MHAO,Amazon PLCC Free-Financing Universal Merchant AAT-MKLXOOZWQL7GO,Amazon PLCC Free-Financing Universal Merchant AAT-CB7UNXEXGIJTC,Amazon PLCC Free-Financing Universal Merchant #MP-gzasho-1593152694811,Amazon PLCC Free-Financing Universal Merchant AAT-WLBA4GZ52EAH4'\n",
      " 'IN Core Free Shipping 2015/04/08 23-48-5-108' ...\n",
      " 'Amazon PLCC Free-Financing Universal Merchant AAT-WNKTBO3K27EJC,Amazon PLCC Free-Financing Universal Merchant AAT-QX3UCCJESKPA2,Amazon PLCC Free-Financing Universal Merchant AAT-5QQ7BIYYQEDN2,Amazon PLCC Free-Financing Universal Merchant AAT-DSJ2QRXXWXVMQ,Amazon PLCC Free-Financing Universal Merchant AAT-CXJHMC2YJUK76,Amazon PLCC Free-Financing Universal Merchant AAT-SL3Y2YRMAUNFC,Amazon PLCC Free-Financing Universal Merchant AAT-CC4FAVTYR4X7C,Amazon PLCC Free-Financing Universal Merchant AAT-EWAPBB6BDRGM6,Amazon PLCC Free-Financing Universal Merchant AAT-EOKPWFWYW7Y6I,Amazon PLCC Free-Financing Universal Merchant AAT-5ZEB2OGNZ32MC,Amazon PLCC Free-Financing Universal Merchant AAT-NT3ZJJGQ3JK3Q,Amazon PLCC Free-Financing Universal Merchant AAT-TNYBHEAO7HOHO,Amazon PLCC Free-Financing Universal Merchant AAT-BRSZZ45H6MHAO,Amazon PLCC Free-Financing Universal Merchant AAT-MKLXOOZWQL7GO,Amazon PLCC Free-Financing Universal Merchant AAT-CB7UNXEXGIJTC,Amazon PLCC Free-Financing Universal Merchant #MP-gzasho-1593152694811,Amazon PLCC Free-Financing Universal Merchant AAT-WLBA4GZ52EAH4,Amazon PLCC Free-Financing Universal Merchant AAT-QMFZ3M7T5NPDS,Amazon PLCC Free-Financing Universal Merchant #MP-pmilan-1601980554292'\n",
      " 'Amazon PLCC Free-Financing Universal Merchant AAT-WNKTBO3K27EJC,Amazon PLCC Free-Financing Universal Merchant AAT-QX3UCCJESKPA2,Amazon PLCC Free-Financing Universal Merchant AAT-5QQ7BIYYQEDN2,Amazon PLCC Free-Financing Universal Merchant AAT-DSJ2QRXXWXVMQ,Amazon PLCC Free-Financing Universal Merchant AAT-CXJHMC2YJUK76,Amazon PLCC Free-Financing Universal Merchant AAT-SL3Y2YRMAUNFC,Amazon PLCC Free-Financing Universal Merchant AAT-CC4FAVTYR4X7C,Amazon PLCC Free-Financing Universal Merchant AAT-EWAPBB6BDRGM6,Amazon PLCC Free-Financing Universal Merchant AAT-R7GXNZWISTRFA,Amazon PLCC Free-Financing Universal Merchant AAT-EOKPWFWYW7Y6I,Amazon PLCC Free-Financing Universal Merchant AAT-5ZEB2OGNZ32MC,Amazon PLCC Free-Financing Universal Merchant AAT-NT3ZJJGQ3JK3Q,Amazon PLCC Free-Financing Universal Merchant AAT-5SHH3G55USK5C,Amazon PLCC Free-Financing Universal Merchant AAT-BRSZZ45H6MHAO,Amazon PLCC Free-Financing Universal Merchant AAT-MKLXOOZWQL7GO,Amazon PLCC Free-Financing Universal Merchant AAT-CB7UNXEXGIJTC,Amazon PLCC Free-Financing Universal Merchant #MP-gzasho-1593152694811,Amazon PLCC Free-Financing Universal Merchant AAT-WLBA4GZ52EAH4'\n",
      " 'Amazon PLCC Free-Financing Universal Merchant AAT-WNKTBO3K27EJC,Amazon PLCC Free-Financing Universal Merchant AAT-QX3UCCJESKPA2,Amazon PLCC Free-Financing Universal Merchant AAT-5QQ7BIYYQEDN2,Amazon PLCC Free-Financing Universal Merchant AAT-DSJ2QRXXWXVMQ,Amazon PLCC Free-Financing Universal Merchant AAT-CXJHMC2YJUK76,Amazon PLCC Free-Financing Universal Merchant AAT-CC4FAVTYR4X7C,Amazon PLCC Free-Financing Universal Merchant AAT-EWAPBB6BDRGM6,Amazon PLCC Free-Financing Universal Merchant AAT-R7GXNZWISTRFA,Amazon PLCC Free-Financing Universal Merchant AAT-EOKPWFWYW7Y6I,Amazon PLCC Free-Financing Universal Merchant AAT-NT3ZJJGQ3JK3Q,Amazon PLCC Free-Financing Universal Merchant AAT-5SHH3G55USK5C,Amazon PLCC Free-Financing Universal Merchant AAT-TNYBHEAO7HOHO,Amazon PLCC Free-Financing Universal Merchant AAT-BRSZZ45H6MHAO,Amazon PLCC Free-Financing Universal Merchant AAT-MKLXOOZWQL7GO,Amazon PLCC Free-Financing Universal Merchant AAT-CB7UNXEXGIJTC,Amazon PLCC Free-Financing Universal Merchant #MP-gzasho-1593152694811,Amazon PLCC Free-Financing Universal Merchant AAT-WLBA4GZ52EAH4,Amazon PLCC Free-Financing Universal Merchant AAT-QMFZ3M7T5NPDS,Amazon PLCC Free-Financing Universal Merchant #MP-pmilan-1601980554292']\n",
      "\n",
      " **************************************************************************************************** \n",
      "\n",
      "fulfilled_by\n",
      "1\n",
      "['Easy Ship' nan]\n",
      "\n",
      " **************************************************************************************************** \n",
      "\n",
      "unnamed:_22\n",
      "1\n",
      "[nan False]\n",
      "\n",
      " **************************************************************************************************** \n",
      "\n"
     ]
    }
   ],
   "source": [
    "for col in cat_cols:\n",
    "    print(col)\n",
    "    print(df[col].nunique())\n",
    "    print(df[col].unique())\n",
    "    print('\\n', '*' * 100, '\\n')"
   ]
  },
  {
   "cell_type": "code",
   "execution_count": 64,
   "metadata": {},
   "outputs": [],
   "source": [
    "with open('cat_cols.txt', 'w') as f:\n",
    "\n",
    "    for col in cat_cols:\n",
    "        f.write(f\"{col}\\n\")\n",
    "        f.write(f\"{df[col].nunique()}\\n\")\n",
    "        f.write(f\"{df[col].unique()}\\n\")\n",
    "        f.write(f\"{'*' * 100}\\n\")"
   ]
  },
  {
   "cell_type": "code",
   "execution_count": 65,
   "metadata": {},
   "outputs": [
    {
     "data": {
      "text/plain": [
       "Index(['qty', 'amount', 'ship_postal_code'], dtype='object')"
      ]
     },
     "execution_count": 65,
     "metadata": {},
     "output_type": "execute_result"
    }
   ],
   "source": [
    "# THIS IS THE DATE NUMIRECAL COLUMN\n",
    "num_cols = df.select_dtypes(include= 'number').columns\n",
    "num_cols"
   ]
  },
  {
   "cell_type": "code",
   "execution_count": 66,
   "metadata": {},
   "outputs": [
    {
     "name": "stdout",
     "output_type": "stream",
     "text": [
      "the number of the rows i dont know its address id : 33\n",
      "the precentage of the rows that have address : 99.97441364605544\n"
     ]
    }
   ],
   "source": [
    "# this is the number of the rows i dont know its address id : 33\n",
    "# df[df['ship_city'].isnull() & df['ship_state'].isnull() & df['ship_postal_code'].isnull() & df['ship_country'].isnull()].shape[0]\n",
    "\n",
    "# the precentage of the rows that have address : 99.97441245570641\n",
    "# (df.dropna(subset= ['ship_city', 'ship_state', 'ship_postal_code', 'ship_country']).shape[0] / df.shape[0]) * 100\n",
    "\n",
    "print('the number of the rows i dont know its address id :', df[df['ship_city'].isnull() & df['ship_state'].isnull() & df['ship_postal_code'].isnull() & df['ship_country'].isnull()].shape[0])\n",
    "print('the precentage of the rows that have address :', (df.dropna(subset= ['ship_city', 'ship_state', 'ship_postal_code', 'ship_country']).shape[0] / df.shape[0]) * 100)"
   ]
  },
  {
   "cell_type": "code",
   "execution_count": null,
   "metadata": {},
   "outputs": [],
   "source": [
    "# 02 - there is 33 out of 128975 rows where the address is null so i will drop it \n",
    "\n",
    "df.dropna(subset= ['ship_city', 'ship_state', 'ship_postal_code', 'ship_country'], inplace=True)\n",
    "df.reset_index(drop=True, inplace=True)"
   ]
  },
  {
   "cell_type": "code",
   "execution_count": 68,
   "metadata": {},
   "outputs": [],
   "source": [
    "# 03 - the unnamed:_22 and fulfilled_by did not give any usefull info so i will drop them.\n",
    "df.drop(columns=['unnamed:_22', 'fulfilled_by'], inplace=True)"
   ]
  },
  {
   "cell_type": "code",
   "execution_count": 69,
   "metadata": {},
   "outputs": [
    {
     "name": "stdout",
     "output_type": "stream",
     "text": [
      "the number of duplicated values: 6\n"
     ]
    }
   ],
   "source": [
    "# checking the duplicated values\n",
    "print('the number of duplicated values:', df.duplicated().sum())"
   ]
  },
  {
   "cell_type": "code",
   "execution_count": 70,
   "metadata": {},
   "outputs": [],
   "source": [
    "# drop hte duplicated values\n",
    "df.drop_duplicates(inplace=True)\n",
    "df.reset_index(drop=True, inplace=True)"
   ]
  },
  {
   "cell_type": "code",
   "execution_count": 71,
   "metadata": {},
   "outputs": [
    {
     "data": {
      "text/plain": [
       "order_id               0.000000\n",
       "date                   0.000000\n",
       "status                 0.000000\n",
       "fulfilment             0.000000\n",
       "sales_channel          0.000000\n",
       "ship_service_level     0.000000\n",
       "style                  0.000000\n",
       "sku                    0.000000\n",
       "category               0.000000\n",
       "size                   0.000000\n",
       "asin                   0.000000\n",
       "courier_status         5.327449\n",
       "qty                    0.000000\n",
       "currency               6.041757\n",
       "amount                 6.041757\n",
       "ship_city              0.000000\n",
       "ship_state             0.000000\n",
       "ship_postal_code       0.000000\n",
       "ship_country           0.000000\n",
       "promotion_ids         38.113483\n",
       "b2b                    0.000000\n",
       "dtype: float64"
      ]
     },
     "execution_count": 71,
     "metadata": {},
     "output_type": "execute_result"
    }
   ],
   "source": [
    "# checking the null values again\n",
    "df.isnull().mean()*100"
   ]
  },
  {
   "cell_type": "code",
   "execution_count": 72,
   "metadata": {},
   "outputs": [
    {
     "name": "stdout",
     "output_type": "stream",
     "text": [
      "number of rows: 128936\n"
     ]
    }
   ],
   "source": [
    "print('number of rows:', df.shape[0])"
   ]
  },
  {
   "cell_type": "code",
   "execution_count": 73,
   "metadata": {},
   "outputs": [
    {
     "name": "stderr",
     "output_type": "stream",
     "text": [
      "C:\\Users\\Seif.Ashraf.DEV02\\AppData\\Local\\Temp\\ipykernel_24300\\945229697.py:2: UserWarning: Could not infer format, so each element will be parsed individually, falling back to `dateutil`. To ensure parsing is consistent and as-expected, please specify a format.\n",
      "  df.date = pd.to_datetime(df.date)\n"
     ]
    },
    {
     "data": {
      "text/plain": [
       "0        2022-04-30\n",
       "1        2022-04-30\n",
       "2        2022-04-30\n",
       "3        2022-04-30\n",
       "4        2022-04-30\n",
       "            ...    \n",
       "128931   2022-05-31\n",
       "128932   2022-05-31\n",
       "128933   2022-05-31\n",
       "128934   2022-05-31\n",
       "128935   2022-05-31\n",
       "Name: date, Length: 128936, dtype: datetime64[ns]"
      ]
     },
     "execution_count": 73,
     "metadata": {},
     "output_type": "execute_result"
    }
   ],
   "source": [
    "# 04 - the date column type needs to change into ===> datetime64\n",
    "df.date = pd.to_datetime(df.date)\n",
    "df.date"
   ]
  },
  {
   "cell_type": "code",
   "execution_count": 75,
   "metadata": {},
   "outputs": [],
   "source": [
    "# 05 - the ship-postal-code type needs to change into ===> int\n",
    "df['ship_postal_code']=df['ship_postal_code'].astype('int')\n"
   ]
  },
  {
   "cell_type": "code",
   "execution_count": 76,
   "metadata": {},
   "outputs": [],
   "source": [
    "# 06 - the 'qty' column need to be rename into ==> 'Quantity'\n",
    "df.rename(columns={'qty': 'Quantity'}, inplace=True)"
   ]
  },
  {
   "cell_type": "code",
   "execution_count": 77,
   "metadata": {},
   "outputs": [
    {
     "data": {
      "text/plain": [
       "order_id                      object\n",
       "date                  datetime64[ns]\n",
       "status                        object\n",
       "fulfilment                    object\n",
       "sales_channel                 object\n",
       "ship_service_level            object\n",
       "style                         object\n",
       "sku                           object\n",
       "category                      object\n",
       "size                          object\n",
       "asin                          object\n",
       "courier_status                object\n",
       "Quantity                       int64\n",
       "currency                      object\n",
       "amount                       float64\n",
       "ship_city                     object\n",
       "ship_state                    object\n",
       "ship_postal_code               int64\n",
       "ship_country                  object\n",
       "promotion_ids                 object\n",
       "b2b                             bool\n",
       "dtype: object"
      ]
     },
     "execution_count": 77,
     "metadata": {},
     "output_type": "execute_result"
    }
   ],
   "source": [
    "# checking the data types and names ensure that the changes are applied\n",
    "df.dtypes\n"
   ]
  },
  {
   "cell_type": "code",
   "execution_count": 78,
   "metadata": {},
   "outputs": [
    {
     "name": "stdout",
     "output_type": "stream",
     "text": [
      "the number of the states: 69\n",
      "the number of the cities: 8955\n"
     ]
    }
   ],
   "source": [
    "# checking the number of the unique values in the state and city columns\n",
    "print('the number of the states:', df['ship_state'].nunique())\n",
    "print('the number of the cities:', df['ship_city'].nunique())"
   ]
  },
  {
   "cell_type": "code",
   "execution_count": 79,
   "metadata": {},
   "outputs": [],
   "source": [
    "# 07 - Some states and cities have the same meaning but are written in different styles\n",
    "df['ship_state'] = df['ship_state'].str.lower().str.strip()\n",
    "df['ship_city'] = df['ship_city'].str.lower().str.strip()"
   ]
  },
  {
   "cell_type": "code",
   "execution_count": null,
   "metadata": {},
   "outputs": [
    {
     "name": "stdout",
     "output_type": "stream",
     "text": [
      "47\n",
      "['maharashtra' 'karnataka' 'puducherry' 'tamil nadu' 'uttar pradesh'\n",
      " 'chandigarh' 'telangana' 'andhra pradesh' 'rajasthan' 'delhi' 'haryana'\n",
      " 'assam' 'jharkhand' 'chhattisgarh' 'odisha' 'kerala' 'madhya pradesh'\n",
      " 'west bengal' 'nagaland' 'gujarat' 'uttarakhand' 'bihar'\n",
      " 'jammu & kashmir' 'punjab' 'himachal pradesh' 'arunachal pradesh'\n",
      " 'manipur' 'goa' 'meghalaya' 'tripura' 'ladakh' 'dadra and nagar' 'sikkim'\n",
      " 'andaman & nicobar' 'rajshthan' 'nl' 'mizoram' 'new delhi'\n",
      " 'punjab/mohali/zirakpur' 'rj' 'orissa' 'lakshadweep' 'pb' 'apo' 'ar'\n",
      " 'pondicherry' 'rajsthan']\n"
     ]
    }
   ],
   "source": [
    "# after applying lower() and strip() i reduce the number of ship_state from 69 into 47 but i still have several duplicates and misspellings\n",
    "print(df['ship_state'].nunique())\n",
    "print(df['ship_state'].unique())"
   ]
  },
  {
   "cell_type": "code",
   "execution_count": 86,
   "metadata": {},
   "outputs": [
    {
     "name": "stdout",
     "output_type": "stream",
     "text": [
      "Number of states after mapping: 38\n",
      "Unique states after mapping:\n",
      " ['maharashtra' 'karnataka' 'puducherry' 'tamil nadu' 'uttar pradesh'\n",
      " 'chandigarh' 'telangana' 'andhra pradesh' 'rajasthan' 'delhi' 'haryana'\n",
      " 'assam' 'jharkhand' 'chhattisgarh' 'odisha' 'kerala' 'madhya pradesh'\n",
      " 'west bengal' 'nagaland' 'gujarat' 'uttarakhand' 'bihar'\n",
      " 'jammu & kashmir' 'punjab' 'himachal pradesh' 'arunachal pradesh'\n",
      " 'manipur' 'goa' 'meghalaya' 'tripura' 'ladakh' 'dadra and nagar haveli'\n",
      " 'sikkim' 'andaman & nicobar islands' 'nl' 'mizoram' 'lakshadweep' 'apo']\n"
     ]
    }
   ],
   "source": [
    "# Create a comprehensive mapping for all state variations\n",
    "state_mapping = {\n",
    "    # Delhi variations\n",
    "    'delhi': 'delhi',\n",
    "    'new delhi': 'delhi',\n",
    "    \n",
    "    # Rajasthan variations\n",
    "    'rajasthan': 'rajasthan',\n",
    "    'rajshthan': 'rajasthan',\n",
    "    'rajsthan': 'rajasthan',\n",
    "    'rj': 'rajasthan',\n",
    "    \n",
    "    # Punjab variations\n",
    "    'punjab': 'punjab',\n",
    "    'punjab/mohali/zirakpur': 'punjab',\n",
    "    'pb': 'punjab',\n",
    "    \n",
    "    # Puducherry variations\n",
    "    'puducherry': 'puducherry',\n",
    "    'pondicherry': 'puducherry',\n",
    "    \n",
    "    # Odisha variations (Orissa is the old name)\n",
    "    'odisha': 'odisha',\n",
    "    'orissa': 'odisha',\n",
    "    \n",
    "    # Arunachal Pradesh variations\n",
    "    'arunachal pradesh': 'arunachal pradesh',\n",
    "    'ar': 'arunachal pradesh',\n",
    "    \n",
    "    # Other states (keep as is)\n",
    "    'maharashtra': 'maharashtra',\n",
    "    'karnataka': 'karnataka',\n",
    "    'tamil nadu': 'tamil nadu',\n",
    "    'uttar pradesh': 'uttar pradesh',\n",
    "    'chandigarh': 'chandigarh',\n",
    "    'telangana': 'telangana',\n",
    "    'andhra pradesh': 'andhra pradesh',\n",
    "    'haryana': 'haryana',\n",
    "    'assam': 'assam',\n",
    "    'jharkhand': 'jharkhand',\n",
    "    'chhattisgarh': 'chhattisgarh',\n",
    "    'kerala': 'kerala',\n",
    "    'madhya pradesh': 'madhya pradesh',\n",
    "    'west bengal': 'west bengal',\n",
    "    'nagaland': 'nagaland',\n",
    "    'gujarat': 'gujarat',\n",
    "    'uttarakhand': 'uttarakhand',\n",
    "    'bihar': 'bihar',\n",
    "    'jammu & kashmir': 'jammu & kashmir',\n",
    "    'himachal pradesh': 'himachal pradesh',\n",
    "    'manipur': 'manipur',\n",
    "    'goa': 'goa',\n",
    "    'meghalaya': 'meghalaya',\n",
    "    'tripura': 'tripura',\n",
    "    'ladakh': 'ladakh',\n",
    "    'dadra and nagar': 'dadra and nagar haveli',\n",
    "    'sikkim': 'sikkim',\n",
    "    'andaman & nicobar': 'andaman & nicobar islands',\n",
    "    'mizoram': 'mizoram',\n",
    "    'lakshadweep': 'lakshadweep',\n",
    "    \n",
    "    # Special codes (not actual states)\n",
    "    'apo': 'apo',  # Army Post Office\n",
    "    'nl': 'nl'     # Unclear - might be a code or error\n",
    "}\n",
    "\n",
    "# Apply the mapping\n",
    "df['ship_state'] = df['ship_state'].replace(state_mapping)\n",
    "\n",
    "# Check the results\n",
    "print('Number of states after mapping:', df['ship_state'].nunique())\n",
    "print('Unique states after mapping:\\n', df['ship_state'].unique())"
   ]
  },
  {
   "cell_type": "code",
   "execution_count": 273,
   "metadata": {},
   "outputs": [
    {
     "name": "stdout",
     "output_type": "stream",
     "text": [
      "the number of the states: 47\n",
      "the number of the cities: 7297\n"
     ]
    }
   ],
   "source": [
    "# checking the number of the unique values in the state and city columns\n",
    "print('the number of the states:', df['ship_state'].nunique())\n",
    "print('the number of the cities:', df['ship_city'].nunique())"
   ]
  },
  {
   "cell_type": "code",
   "execution_count": 274,
   "metadata": {},
   "outputs": [
    {
     "data": {
      "text/plain": [
       "array(['INR', nan], dtype=object)"
      ]
     },
     "execution_count": 274,
     "metadata": {},
     "output_type": "execute_result"
    }
   ],
   "source": [
    "# checking the unique values in the currency column\n",
    "df['currency'].unique()"
   ]
  },
  {
   "cell_type": "code",
   "execution_count": 275,
   "metadata": {},
   "outputs": [
    {
     "name": "stderr",
     "output_type": "stream",
     "text": [
      "C:\\Users\\Seif.Ashraf.DEV02\\AppData\\Local\\Temp\\ipykernel_8924\\1528635270.py:2: FutureWarning: A value is trying to be set on a copy of a DataFrame or Series through chained assignment using an inplace method.\n",
      "The behavior will change in pandas 3.0. This inplace method will never work because the intermediate object on which we are setting values always behaves as a copy.\n",
      "\n",
      "For example, when doing 'df[col].method(value, inplace=True)', try using 'df.method({col: value}, inplace=True)' or df[col] = df[col].method(value) instead, to perform the operation inplace on the original object.\n",
      "\n",
      "\n",
      "  df['currency'].fillna('INR', inplace=True)\n"
     ]
    }
   ],
   "source": [
    "# 08 - the currency should be INR since this data from india and also i did not found any other currency\n",
    "df['currency'].fillna('INR', inplace=True)"
   ]
  },
  {
   "cell_type": "code",
   "execution_count": 276,
   "metadata": {},
   "outputs": [
    {
     "data": {
      "text/plain": [
       "array(['INR'], dtype=object)"
      ]
     },
     "execution_count": 276,
     "metadata": {},
     "output_type": "execute_result"
    }
   ],
   "source": [
    "# Re-checking the unique values in the currency column\n",
    "df['currency'].unique()"
   ]
  },
  {
   "cell_type": "code",
   "execution_count": 277,
   "metadata": {},
   "outputs": [],
   "source": [
    "# 09 - Replace missing promotion-ids with 'No Promotion'\n",
    "df['promotion_ids'] = df['promotion_ids'].fillna('No Promotion')"
   ]
  },
  {
   "cell_type": "code",
   "execution_count": 278,
   "metadata": {},
   "outputs": [],
   "source": [
    "# 10 - Fill 'Courier Status' with 'Cancelled' when Status is 'Cancelled'\n",
    "df.loc[df['status'] == 'Cancelled', 'courier_status'] = 'Cancelled'"
   ]
  },
  {
   "cell_type": "code",
   "execution_count": 279,
   "metadata": {},
   "outputs": [
    {
     "name": "stdout",
     "output_type": "stream",
     "text": [
      "Number of null values in amount column: 0\n"
     ]
    }
   ],
   "source": [
    "#### 11 - handel the Null Amount Values based on style's median unit price and quantity\n",
    "\n",
    "# Calculate median unit price per style where amount and quantity are valid\n",
    "mask_valid = (df['amount'] > 0) & (df['Quantity'] > 0)\n",
    "df['unit_price'] = df['amount'] / df['Quantity']\n",
    "\n",
    "# Calculate median unit price per style\n",
    "median_unit_prices = df[mask_valid].groupby('style')['unit_price'].median()\n",
    "\n",
    "# Fill missing amounts based on style's median unit price and quantity\n",
    "for style in df['style'].unique():\n",
    "    style_mask = (df['style'] == style) & (df['amount'].isna())\n",
    "    if style in median_unit_prices:\n",
    "        df.loc[style_mask, 'amount'] = df.loc[style_mask, 'Quantity'] * median_unit_prices[style]\n",
    "\n",
    "# For any remaining null amounts, use the overall median unit price\n",
    "overall_median_unit_price = df[mask_valid]['unit_price'].median()\n",
    "remaining_null_mask = df['amount'].isna()\n",
    "df.loc[remaining_null_mask, 'amount'] = df.loc[remaining_null_mask, 'Quantity'] * overall_median_unit_price\n",
    "\n",
    "# Clean up the temporary unit_price column\n",
    "df = df.drop('unit_price', axis=1)\n",
    "\n",
    "# Verify the results\n",
    "print('Number of null values in amount column:', df['amount'].isna().sum())"
   ]
  },
  {
   "cell_type": "code",
   "execution_count": 280,
   "metadata": {},
   "outputs": [
    {
     "data": {
      "text/plain": [
       "np.int64(0)"
      ]
     },
     "execution_count": 280,
     "metadata": {},
     "output_type": "execute_result"
    }
   ],
   "source": [
    "df.duplicated().sum()"
   ]
  },
  {
   "cell_type": "code",
   "execution_count": 281,
   "metadata": {},
   "outputs": [
    {
     "data": {
      "text/plain": [
       "order_id               0\n",
       "date                   0\n",
       "status                 0\n",
       "fulfilment             0\n",
       "sales_channel          0\n",
       "ship_service_level     0\n",
       "style                  0\n",
       "sku                    0\n",
       "category               0\n",
       "size                   0\n",
       "asin                   0\n",
       "courier_status        11\n",
       "Quantity               0\n",
       "currency               0\n",
       "amount                 0\n",
       "ship_city              0\n",
       "ship_state             0\n",
       "ship_postal_code       0\n",
       "ship_country           0\n",
       "promotion_ids          0\n",
       "b2b                    0\n",
       "dtype: int64"
      ]
     },
     "execution_count": 281,
     "metadata": {},
     "output_type": "execute_result"
    }
   ],
   "source": [
    "df.isna().sum()"
   ]
  },
  {
   "cell_type": "code",
   "execution_count": null,
   "metadata": {},
   "outputs": [],
   "source": [
    "df['courier_status'].fillna('Unknown', inplace=True)"
   ]
  },
  {
   "cell_type": "code",
   "execution_count": 283,
   "metadata": {},
   "outputs": [
    {
     "data": {
      "text/plain": [
       "order_id               0\n",
       "date                   0\n",
       "status                 0\n",
       "fulfilment             0\n",
       "sales_channel          0\n",
       "ship_service_level     0\n",
       "style                  0\n",
       "sku                    0\n",
       "category               0\n",
       "size                   0\n",
       "asin                   0\n",
       "courier_status        11\n",
       "Quantity               0\n",
       "currency               0\n",
       "amount                 0\n",
       "ship_city              0\n",
       "ship_state             0\n",
       "ship_postal_code       0\n",
       "ship_country           0\n",
       "promotion_ids          0\n",
       "b2b                    0\n",
       "dtype: int64"
      ]
     },
     "execution_count": 283,
     "metadata": {},
     "output_type": "execute_result"
    }
   ],
   "source": [
    "df.isna().sum()"
   ]
  },
  {
   "cell_type": "code",
   "execution_count": null,
   "metadata": {},
   "outputs": [],
   "source": []
  },
  {
   "cell_type": "code",
   "execution_count": null,
   "metadata": {},
   "outputs": [],
   "source": []
  }
 ],
 "metadata": {
  "kernelspec": {
   "display_name": "vfx_env",
   "language": "python",
   "name": "python3"
  },
  "language_info": {
   "codemirror_mode": {
    "name": "ipython",
    "version": 3
   },
   "file_extension": ".py",
   "mimetype": "text/x-python",
   "name": "python",
   "nbconvert_exporter": "python",
   "pygments_lexer": "ipython3",
   "version": "3.9.21"
  }
 },
 "nbformat": 4,
 "nbformat_minor": 2
}
